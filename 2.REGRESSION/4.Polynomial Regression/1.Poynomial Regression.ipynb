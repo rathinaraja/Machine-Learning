{
 "cells": [
  {
   "cell_type": "markdown",
   "metadata": {},
   "source": [
    "<div align=\"center\">\n",
    "  <b> <font size=\"6\">Polynomial Regression (Non-Linear fitting)</font> </b>\n",
    "</div>"
   ]
  },
  {
   "cell_type": "markdown",
   "metadata": {},
   "source": [
    "<div align=\"center\">\n",
    "  <b> <font size=\"3\"> It is not non-linear regression </font> </b>\n",
    "</div>"
   ]
  },
  {
   "cell_type": "markdown",
   "metadata": {},
   "source": [
    "## Understanding curve fitting"
   ]
  },
  {
   "cell_type": "code",
   "execution_count": 191,
   "metadata": {
    "scrolled": true
   },
   "outputs": [],
   "source": [
    "# Import necessary package\n",
    "import pandas as pd\n",
    "import numpy as np\n",
    "import matplotlib.pyplot as plt \n",
    "import seaborn as sns\n",
    "import warnings\n",
    "warnings.filterwarnings(\"ignore\")\n",
    "%matplotlib inline"
   ]
  },
  {
   "cell_type": "markdown",
   "metadata": {},
   "source": [
    "### 1. Degree 2 polynomial (quadratic function for parabola)\n",
    "\\begin{equation}\n",
    "f(x) = a x^2\n",
    "\\end{equation}"
   ]
  },
  {
   "cell_type": "markdown",
   "metadata": {},
   "source": [
    "#### Dataset"
   ]
  },
  {
   "cell_type": "code",
   "execution_count": 192,
   "metadata": {},
   "outputs": [
    {
     "data": {
      "text/plain": [
       "array([-5. , -4.9, -4.8, -4.7, -4.6])"
      ]
     },
     "execution_count": 192,
     "metadata": {},
     "output_type": "execute_result"
    }
   ],
   "source": [
    "# Generate values for variable x between -5 to +5 with 0.1 space\n",
    "x = np.arange(-5.0, 5.0, 0.1)\n",
    "x = np.round(x, 2) \n",
    "x[:5,]"
   ]
  },
  {
   "cell_type": "code",
   "execution_count": 193,
   "metadata": {},
   "outputs": [
    {
     "data": {
      "text/plain": [
       "array([25.  , 24.01, 23.04, 22.09, 21.16])"
      ]
     },
     "execution_count": 193,
     "metadata": {},
     "output_type": "execute_result"
    }
   ],
   "source": [
    "# Calculate y value for each x using quadratic function (I assumed the value of parameter a to be 1)\n",
    "y_init =  1*(x**2) \n",
    "y_init[:5,]"
   ]
  },
  {
   "cell_type": "code",
   "execution_count": 194,
   "metadata": {},
   "outputs": [],
   "source": [
    "# Adding some randomness to y value to show different non-linear pattern\n",
    "y_noise = 2 * np.random.normal(size=x.size)\n",
    "y = np.round(y_init + y_noise, 2) "
   ]
  },
  {
   "cell_type": "code",
   "execution_count": 195,
   "metadata": {},
   "outputs": [
    {
     "name": "stdout",
     "output_type": "stream",
     "text": [
      "  X      Y  \n",
      "===============\n",
      "-5.0   28.56\n",
      "-4.9   25.62\n",
      "-4.8   22.5\n",
      "-4.7   23.5\n",
      "-4.6   18.69\n"
     ]
    }
   ],
   "source": [
    "# Display the first 5 records\n",
    "print(\"  X  \",\"   Y  \")\n",
    "print(\"===============\")\n",
    "count = 0\n",
    "for i,j in zip(x,y):\n",
    "    if count == 5:\n",
    "        break\n",
    "    else: \n",
    "        print(i,\" \",j)\n",
    "        count = count + 1"
   ]
  },
  {
   "cell_type": "markdown",
   "metadata": {},
   "source": [
    "#### Find the relationship"
   ]
  },
  {
   "cell_type": "code",
   "execution_count": 196,
   "metadata": {},
   "outputs": [
    {
     "data": {
      "image/png": "[encoded data removed]",
      "text/plain": [
       "<Figure size 432x288 with 1 Axes>"
      ]
     },
     "metadata": {
      "needs_background": "light"
     },
     "output_type": "display_data"
    }
   ],
   "source": [
    "plt.scatter(x,y)\n",
    "plt.show()"
   ]
  },
  {
   "cell_type": "markdown",
   "metadata": {},
   "source": [
    "#### Linear model"
   ]
  },
  {
   "cell_type": "code",
   "execution_count": 197,
   "metadata": {},
   "outputs": [
    {
     "data": {
      "text/plain": [
       "LinearRegression()"
      ]
     },
     "execution_count": 197,
     "metadata": {},
     "output_type": "execute_result"
    }
   ],
   "source": [
    "# Fit x and y with straight line \n",
    "from sklearn.linear_model import LinearRegression\n",
    "model = LinearRegression()   \n",
    "model.fit(x.reshape(-1, 1), y)"
   ]
  },
  {
   "cell_type": "code",
   "execution_count": 198,
   "metadata": {},
   "outputs": [],
   "source": [
    "# Predit value for X\n",
    "y_pred = model.predict(x.reshape(-1, 1))"
   ]
  },
  {
   "cell_type": "code",
   "execution_count": 199,
   "metadata": {},
   "outputs": [
    {
     "data": {
      "image/png": "[encoded data removed]",
      "text/plain": [
       "<Figure size 432x288 with 1 Axes>"
      ]
     },
     "metadata": {
      "needs_background": "light"
     },
     "output_type": "display_data"
    }
   ],
   "source": [
    "# Plotting y_observed and y_predicted\n",
    "plt.scatter(x,y) \n",
    "plt.plot(x, y_pred, 'b',linewidth = 2, label=\"predicted_straight_line\") \n",
    "plt.ylabel('Dependent Variable (Y)')\n",
    "plt.xlabel('Indepdendent Variable (X)')\n",
    "plt.legend(loc=\"best\")\n",
    "plt.show()"
   ]
  },
  {
   "cell_type": "markdown",
   "metadata": {},
   "source": [
    "#### Non-linear model"
   ]
  },
  {
   "cell_type": "markdown",
   "metadata": {},
   "source": [
    "Let us fit a suitable curvy line by estimating the values for parameters a, b, and c\n",
    " \n",
    "I did not use any algorithm. But, my assumptions are a=1, b=0, c=0 "
   ]
  },
  {
   "cell_type": "code",
   "execution_count": 200,
   "metadata": {
    "scrolled": true
   },
   "outputs": [
    {
     "data": {
      "image/png": "[encoded data removed]",
      "text/plain": [
       "<Figure size 432x288 with 1 Axes>"
      ]
     },
     "metadata": {
      "needs_background": "light"
     },
     "output_type": "display_data"
    }
   ],
   "source": [
    "# We used y_init values as it was generated by using a=1, b=0, c=0\n",
    "plt.scatter(x,y)\n",
    "plt.plot(x, y_init, 'r',linewidth = 2,label=\"predicted_curvy_line\") \n",
    "plt.plot(x, y_pred, 'b',linewidth = 2, label=\"predicted_straight_line\") \n",
    "plt.ylabel('Dependent Variable (Y)')\n",
    "plt.xlabel('Indepdendent Variable (X)')\n",
    "plt.legend()\n",
    "plt.show()"
   ]
  },
  {
   "cell_type": "markdown",
   "metadata": {},
   "source": [
    "### 2. Degree 3 polynomial (cubic function)\n",
    "\\begin{equation}\n",
    "f(x) = a x^3 + b x^2 + c x + d\n",
    "\\end{equation}"
   ]
  },
  {
   "cell_type": "markdown",
   "metadata": {},
   "source": [
    "#### Dataset"
   ]
  },
  {
   "cell_type": "code",
   "execution_count": 201,
   "metadata": {},
   "outputs": [
    {
     "data": {
      "text/plain": [
       "array([-5. , -4.9, -4.8, -4.7, -4.6])"
      ]
     },
     "execution_count": 201,
     "metadata": {},
     "output_type": "execute_result"
    }
   ],
   "source": [
    "# Generate values for variable x between -5 to +5 with 0.1 space\n",
    "x = np.arange(-5.0, 5.0, 0.1)\n",
    "x = np.round(x, 2)\n",
    "x[:5,]"
   ]
  },
  {
   "cell_type": "code",
   "execution_count": 202,
   "metadata": {},
   "outputs": [
    {
     "data": {
      "text/plain": [
       "array([-102.   ,  -95.539,  -89.352,  -83.433,  -77.776])"
      ]
     },
     "execution_count": 202,
     "metadata": {},
     "output_type": "execute_result"
    }
   ],
   "source": [
    "# Calculate y value for each x using cubic function\n",
    "y_init =  1*(x**3) + 1*(x**2) + 1*x + 3  \n",
    "y_init[:5,]"
   ]
  },
  {
   "cell_type": "code",
   "execution_count": 203,
   "metadata": {},
   "outputs": [],
   "source": [
    "# Adding some randomness to y value to show different non-linear pattern\n",
    "y_noise = 20 * np.random.normal(size=x.size)\n",
    "y = np.round(y_init + y_noise,2) "
   ]
  },
  {
   "cell_type": "code",
   "execution_count": 204,
   "metadata": {},
   "outputs": [
    {
     "name": "stdout",
     "output_type": "stream",
     "text": [
      "  X      Y  \n",
      "===============\n",
      "-5.0   -83.69\n",
      "-4.9   -115.39\n",
      "-4.8   -107.21\n",
      "-4.7   -46.42\n",
      "-4.6   -84.99\n"
     ]
    }
   ],
   "source": [
    "# Display the first 5 records\n",
    "print(\"  X  \",\"   Y  \")\n",
    "print(\"===============\")\n",
    "count = 0\n",
    "for i,j in zip(x,y):\n",
    "    if count == 5:\n",
    "        break\n",
    "    else: \n",
    "        print(i,\" \",j)\n",
    "        count = count + 1"
   ]
  },
  {
   "cell_type": "markdown",
   "metadata": {},
   "source": [
    "#### Find the relationship"
   ]
  },
  {
   "cell_type": "code",
   "execution_count": 205,
   "metadata": {},
   "outputs": [
    {
     "data": {
      "image/png": "[encoded data removed]",
      "text/plain": [
       "<Figure size 432x288 with 1 Axes>"
      ]
     },
     "metadata": {
      "needs_background": "light"
     },
     "output_type": "display_data"
    }
   ],
   "source": [
    "plt.scatter(x,y)\n",
    "plt.show()"
   ]
  },
  {
   "cell_type": "markdown",
   "metadata": {},
   "source": [
    "#### Linear model"
   ]
  },
  {
   "cell_type": "code",
   "execution_count": 206,
   "metadata": {},
   "outputs": [
    {
     "data": {
      "text/plain": [
       "LinearRegression()"
      ]
     },
     "execution_count": 206,
     "metadata": {},
     "output_type": "execute_result"
    }
   ],
   "source": [
    "# Fit x and y with straight line model\n",
    "from sklearn.linear_model import LinearRegression\n",
    "model = LinearRegression()   \n",
    "model.fit(x.reshape(-1, 1), y)"
   ]
  },
  {
   "cell_type": "code",
   "execution_count": 207,
   "metadata": {},
   "outputs": [],
   "source": [
    "# Predit value for X\n",
    "y_pred = model.predict(x.reshape(-1, 1))"
   ]
  },
  {
   "cell_type": "code",
   "execution_count": 208,
   "metadata": {},
   "outputs": [
    {
     "data": {
      "image/png": "[encoded data removed]",
      "text/plain": [
       "<Figure size 432x288 with 1 Axes>"
      ]
     },
     "metadata": {
      "needs_background": "light"
     },
     "output_type": "display_data"
    }
   ],
   "source": [
    "# Plotting y_observed and y_predicted\n",
    "plt.scatter(x,y) \n",
    "plt.plot(x, y_pred, 'b',linewidth = 2, label=\"predicted_straight_line\") \n",
    "plt.ylabel('Dependent Variable (Y)')\n",
    "plt.xlabel('Indepdendent Variable (X)')\n",
    "plt.legend()\n",
    "plt.show()"
   ]
  },
  {
   "cell_type": "markdown",
   "metadata": {},
   "source": [
    "#### Non-linear model"
   ]
  },
  {
   "cell_type": "markdown",
   "metadata": {},
   "source": [
    "I did not use any algorithm. But, my assumptions are a =1, b=1, c=2, d=3 "
   ]
  },
  {
   "cell_type": "code",
   "execution_count": 209,
   "metadata": {
    "scrolled": true
   },
   "outputs": [
    {
     "data": {
      "image/png": "[encoded data removed]",
      "text/plain": [
       "<Figure size 432x288 with 1 Axes>"
      ]
     },
     "metadata": {
      "needs_background": "light"
     },
     "output_type": "display_data"
    }
   ],
   "source": [
    "# We used y_init values as it was generated by using a =1, b=1, c=2, d=3 \n",
    "plt.scatter(x,y)\n",
    "plt.plot(x, y_init, 'r', linewidth = 2, label=\"predicted_curvy_line\") \n",
    "plt.plot(x, y_pred, 'b',linewidth = 2, label=\"predicted_straight_line\")\n",
    "plt.ylabel('Dependent Variable (Y)')\n",
    "plt.xlabel('Indepdendent Variable (X)')\n",
    "plt.legend()\n",
    "plt.show()"
   ]
  },
  {
   "cell_type": "markdown",
   "metadata": {},
   "source": [
    "### 3. Logistic (Sigmoid) function  \n",
    "\\begin{equation}\n",
    "\\frac{1}{1+e^{-ax}}\n",
    "\\end{equation}"
   ]
  },
  {
   "cell_type": "markdown",
   "metadata": {},
   "source": [
    "#### Dataset "
   ]
  },
  {
   "cell_type": "code",
   "execution_count": 210,
   "metadata": {},
   "outputs": [
    {
     "data": {
      "text/plain": [
       "array([-5. , -4.9, -4.8, -4.7, -4.6])"
      ]
     },
     "execution_count": 210,
     "metadata": {},
     "output_type": "execute_result"
    }
   ],
   "source": [
    "# Generate values for variable x between -5 to +5 with 0.1 space\n",
    "x = np.arange(-5, 5, 0.1) \n",
    "x[:5,]"
   ]
  },
  {
   "cell_type": "code",
   "execution_count": 211,
   "metadata": {},
   "outputs": [],
   "source": [
    "# Calculate y value for each x using logistic function assuming the parameter value a=1\n",
    "y_init =  1/(1+np.exp(-1*x))"
   ]
  },
  {
   "cell_type": "code",
   "execution_count": 212,
   "metadata": {},
   "outputs": [],
   "source": [
    "# Adding some randomness to y value to show different non-linear pattern\n",
    "y_noise = np.array([0.0001,0.0002,0.0004])\n",
    "index = np.arange(x.size)\n",
    "for i in index:\n",
    "    y[i] = y_init[i] + np.random.uniform(0.01, 0.09)"
   ]
  },
  {
   "cell_type": "code",
   "execution_count": 213,
   "metadata": {},
   "outputs": [
    {
     "name": "stdout",
     "output_type": "stream",
     "text": [
      "  X      Y  \n",
      "===============\n",
      "-5.0   0.04\n",
      "-4.9   0.03\n",
      "-4.8   0.05\n",
      "-4.7   0.05\n",
      "-4.6   0.09\n"
     ]
    }
   ],
   "source": [
    "# Display the first 5 records\n",
    "print(\"  X  \",\"   Y  \")\n",
    "print(\"===============\")\n",
    "count = 0\n",
    "for i,j in zip(x,y):\n",
    "    if count == 5:\n",
    "        break\n",
    "    else: \n",
    "        print(np.round(i,2),\" \",np.round(j,2))\n",
    "        count = count + 1"
   ]
  },
  {
   "cell_type": "markdown",
   "metadata": {},
   "source": [
    "#### Find the relationship"
   ]
  },
  {
   "cell_type": "code",
   "execution_count": 214,
   "metadata": {},
   "outputs": [
    {
     "data": {
      "image/png": "[encoded data removed]",
      "text/plain": [
       "<Figure size 432x288 with 1 Axes>"
      ]
     },
     "metadata": {
      "needs_background": "light"
     },
     "output_type": "display_data"
    }
   ],
   "source": [
    "plt.scatter(x,y)\n",
    "plt.show()"
   ]
  },
  {
   "cell_type": "markdown",
   "metadata": {},
   "source": [
    "#### Linear model"
   ]
  },
  {
   "cell_type": "code",
   "execution_count": 215,
   "metadata": {},
   "outputs": [
    {
     "data": {
      "text/plain": [
       "LinearRegression()"
      ]
     },
     "execution_count": 215,
     "metadata": {},
     "output_type": "execute_result"
    }
   ],
   "source": [
    "# Fit x and y with straight line model\n",
    "from sklearn.linear_model import LinearRegression\n",
    "model = LinearRegression()   \n",
    "model.fit(x.reshape(-1, 1), y)"
   ]
  },
  {
   "cell_type": "code",
   "execution_count": 216,
   "metadata": {},
   "outputs": [],
   "source": [
    "# Predit value for X\n",
    "y_pred = model.predict(x.reshape(-1, 1))"
   ]
  },
  {
   "cell_type": "code",
   "execution_count": 217,
   "metadata": {},
   "outputs": [
    {
     "data": {
      "image/png": "[encoded data removed]",
      "text/plain": [
       "<Figure size 432x288 with 1 Axes>"
      ]
     },
     "metadata": {
      "needs_background": "light"
     },
     "output_type": "display_data"
    }
   ],
   "source": [
    "# Plotting y_observed and y_predicted\n",
    "plt.scatter(x,y) \n",
    "plt.plot(x, y_pred, 'b',linewidth = 2, label=\"predicted_straight_line\") \n",
    "plt.ylabel('Dependent Variable (Y)')\n",
    "plt.xlabel('Indepdendent Variable (X)')\n",
    "plt.legend()\n",
    "plt.show()"
   ]
  },
  {
   "cell_type": "markdown",
   "metadata": {},
   "source": [
    "#### Non-linear model"
   ]
  },
  {
   "cell_type": "markdown",
   "metadata": {},
   "source": [
    "I did not use any algorithm. But, my assumptions are a =1, b=1, c=2, d=3 "
   ]
  },
  {
   "cell_type": "code",
   "execution_count": 218,
   "metadata": {
    "scrolled": true
   },
   "outputs": [
    {
     "data": {
      "image/png": "[encoded data removed]",
      "text/plain": [
       "<Figure size 432x288 with 1 Axes>"
      ]
     },
     "metadata": {
      "needs_background": "light"
     },
     "output_type": "display_data"
    }
   ],
   "source": [
    "# We used y_init values as it was generated by using a =1, b=1, c=2, d=3 \n",
    "plt.scatter(x,y)\n",
    "plt.plot(x, y_init, 'r', linewidth = 2, label=\"predicted_curvy_line\") \n",
    "plt.plot(x, y_pred, 'b',linewidth = 2, label=\"predicted_straight_line\")\n",
    "plt.ylabel('Dependent Variable (Y)')\n",
    "plt.xlabel('Indepdendent Variable (X)')\n",
    "plt.legend()\n",
    "plt.show()"
   ]
  },
  {
   "cell_type": "markdown",
   "metadata": {},
   "source": [
    "<div align=\"center\">\n",
    "  <b> <font size=\"6\">Let us work on a real dataset without Sci-Kit Learn</font> </b>\n",
    "</div>"
   ]
  },
  {
   "cell_type": "markdown",
   "metadata": {},
   "source": [
    "### Step 1: Load the dataset"
   ]
  },
  {
   "cell_type": "code",
   "execution_count": 219,
   "metadata": {},
   "outputs": [],
   "source": [
    "# Load the dataset into pandas dataframe\n",
    "df=pd.read_csv(\"E:\\\\MY LECTURES\\\\DATA SCIENCE\\\\3.Programs\\\\dataset\\\\china_gdp.csv\")     \n",
    "# Change this location based on the location of dataset in your machine"
   ]
  },
  {
   "cell_type": "code",
   "execution_count": 220,
   "metadata": {},
   "outputs": [
    {
     "data": {
      "text/html": [
       "<div>\n",
       "<style scoped>\n",
       "    .dataframe tbody tr th:only-of-type {\n",
       "        vertical-align: middle;\n",
       "    }\n",
       "\n",
       "    .dataframe tbody tr th {\n",
       "        vertical-align: top;\n",
       "    }\n",
       "\n",
       "    .dataframe thead th {\n",
       "        text-align: right;\n",
       "    }\n",
       "</style>\n",
       "<table border=\"1\" class=\"dataframe\">\n",
       "  <thead>\n",
       "    <tr style=\"text-align: right;\">\n",
       "      <th></th>\n",
       "      <th>Year</th>\n",
       "      <th>GDP</th>\n",
       "    </tr>\n",
       "  </thead>\n",
       "  <tbody>\n",
       "    <tr>\n",
       "      <th>0</th>\n",
       "      <td>1960</td>\n",
       "      <td>5.918412e+10</td>\n",
       "    </tr>\n",
       "    <tr>\n",
       "      <th>1</th>\n",
       "      <td>1961</td>\n",
       "      <td>4.955705e+10</td>\n",
       "    </tr>\n",
       "    <tr>\n",
       "      <th>2</th>\n",
       "      <td>1962</td>\n",
       "      <td>4.668518e+10</td>\n",
       "    </tr>\n",
       "    <tr>\n",
       "      <th>3</th>\n",
       "      <td>1963</td>\n",
       "      <td>5.009730e+10</td>\n",
       "    </tr>\n",
       "    <tr>\n",
       "      <th>4</th>\n",
       "      <td>1964</td>\n",
       "      <td>5.906225e+10</td>\n",
       "    </tr>\n",
       "  </tbody>\n",
       "</table>\n",
       "</div>"
      ],
      "text/plain": [
       "   Year           GDP\n",
       "0  1960  5.918412e+10\n",
       "1  1961  4.955705e+10\n",
       "2  1962  4.668518e+10\n",
       "3  1963  5.009730e+10\n",
       "4  1964  5.906225e+10"
      ]
     },
     "execution_count": 220,
     "metadata": {},
     "output_type": "execute_result"
    }
   ],
   "source": [
    "# Display the first five records\n",
    "df.head()  "
   ]
  },
  {
   "cell_type": "markdown",
   "metadata": {},
   "source": [
    "Dataset shows Year and GDP (x 1000$). \n",
    "<ul>\n",
    "  <li>GDP (<b> output/dependent/target variable </b>).</li>\n",
    "  <li>Year (<b> input/independent/target variable </b>).</li> \n",
    "</ul>  "
   ]
  },
  {
   "cell_type": "markdown",
   "metadata": {},
   "source": [
    "<b>Row </b> <=> record, tuple, instance, sample, observation, object, case, entity <br>\n",
    "<b>Column </b> <=> attribute, variable, field, feature, characteristic, dimension"
   ]
  },
  {
   "cell_type": "code",
   "execution_count": 221,
   "metadata": {},
   "outputs": [
    {
     "data": {
      "text/plain": [
       "(55, 2)"
      ]
     },
     "execution_count": 221,
     "metadata": {},
     "output_type": "execute_result"
    }
   ],
   "source": [
    "df.shape"
   ]
  },
  {
   "cell_type": "markdown",
   "metadata": {},
   "source": [
    "### Step 2: Apply EDA"
   ]
  },
  {
   "cell_type": "code",
   "execution_count": 222,
   "metadata": {},
   "outputs": [
    {
     "data": {
      "image/png": "[encoded data removed]",
      "text/plain": [
       "<Figure size 576x360 with 1 Axes>"
      ]
     },
     "metadata": {
      "needs_background": "light"
     },
     "output_type": "display_data"
    }
   ],
   "source": [
    "plt.figure(figsize=(8,5))\n",
    "plt.scatter(df[\"Year\"],df[\"GDP\"])  \n",
    "plt.ylabel('GDP')\n",
    "plt.xlabel('Year')\n",
    "plt.show()"
   ]
  },
  {
   "cell_type": "markdown",
   "metadata": {},
   "source": [
    "Seems like exponential and logistic function kind"
   ]
  },
  {
   "cell_type": "markdown",
   "metadata": {},
   "source": [
    "### Step 3. Pre-process and extract the features"
   ]
  },
  {
   "cell_type": "markdown",
   "metadata": {},
   "source": [
    "if anything required"
   ]
  },
  {
   "cell_type": "markdown",
   "metadata": {},
   "source": [
    "### Step 4. Split the dataset into training and testing set"
   ]
  },
  {
   "cell_type": "code",
   "execution_count": 223,
   "metadata": {},
   "outputs": [],
   "source": [
    "# Splitting dataset into training and testing set\n",
    "from sklearn.model_selection import train_test_split\n",
    "train, test = train_test_split(df, test_size=0.2)"
   ]
  },
  {
   "cell_type": "code",
   "execution_count": 224,
   "metadata": {},
   "outputs": [],
   "source": [
    "# sorting dataset based on year, else displaying graph is not nice\n",
    "train = train.sort_values(by = ['Year'])\n",
    "test = test.sort_values(by = ['Year'])"
   ]
  },
  {
   "cell_type": "code",
   "execution_count": 225,
   "metadata": {},
   "outputs": [],
   "source": [
    "# Splitting training and testing set\n",
    "x_train = train['Year']\n",
    "y_train = train['GDP']\n",
    "x_test = test['Year']\n",
    "y_test = test['GDP']"
   ]
  },
  {
   "cell_type": "code",
   "execution_count": 226,
   "metadata": {},
   "outputs": [
    {
     "name": "stdout",
     "output_type": "stream",
     "text": [
      "Training data\n",
      "==========================\n",
      "  Year      GDP  \n",
      "==========================\n",
      "1962   46685178504.0\n",
      "1963   50097303271.0\n",
      "1964   59062254890.0\n",
      "1967   72057028560.0\n",
      "1968   69993497892.0\n"
     ]
    }
   ],
   "source": [
    "print(\"Training data\")\n",
    "print(\"==========================\")\n",
    "print(\"  Year  \",\"   GDP  \")\n",
    "print(\"==========================\")\n",
    "count = 0\n",
    "for i,j in zip(x_train,y_train):\n",
    "    if count == 5:\n",
    "        break\n",
    "    else: \n",
    "        print(i,\" \",j)\n",
    "        count = count + 1"
   ]
  },
  {
   "cell_type": "code",
   "execution_count": 227,
   "metadata": {},
   "outputs": [
    {
     "name": "stdout",
     "output_type": "stream",
     "text": [
      "Testing data\n",
      "==========================\n",
      "  Year      GDP  \n",
      "==========================\n",
      "1960   59184116489.0\n",
      "1961   49557050183.0\n",
      "1965   69709153115.0\n",
      "1966   75879434776.0\n",
      "1982   203550000000.0\n"
     ]
    }
   ],
   "source": [
    "print(\"Testing data\")\n",
    "print(\"==========================\")\n",
    "print(\"  Year  \",\"   GDP  \")\n",
    "print(\"==========================\")\n",
    "count = 0\n",
    "for i,j in zip(x_test,y_test):\n",
    "    if count == 5:\n",
    "        break\n",
    "    else: \n",
    "        print(i,\" \",j)\n",
    "        count = count + 1"
   ]
  },
  {
   "cell_type": "markdown",
   "metadata": {},
   "source": [
    "### Step 5: Training phase (bulding the model)"
   ]
  },
  {
   "cell_type": "markdown",
   "metadata": {},
   "source": [
    "#### 1. Planning to model with Logistic (sigmoid) function with guessed values for parameters"
   ]
  },
  {
   "cell_type": "markdown",
   "metadata": {},
   "source": [
    "From an initial look at the plot shown in EDA, we determine that the logistic (sigmoid) function could be a better approximation, since it has the property of starting with a slow growth, increasing growth in the middle, and then decreasing again at the end. <br>\n",
    "<br>\n",
    "The formula for logistic (sigmoid) is little bit modified to better fit the data points. It is given below."
   ]
  },
  {
   "cell_type": "markdown",
   "metadata": {},
   "source": [
    "\\begin{equation}\n",
    "\\frac{1}{1+e^{\\beta_{1}(X-\\beta_{2})}}\n",
    "\\end{equation}"
   ]
  },
  {
   "cell_type": "markdown",
   "metadata": {},
   "source": [
    "Logistic (sigmoid) function has two parameters $\\beta_{1}$ and $\\beta_{1}$ to estimate. For now, let us put some value and then see how it looks like with our dataset."
   ]
  },
  {
   "cell_type": "code",
   "execution_count": 228,
   "metadata": {},
   "outputs": [],
   "source": [
    "# Sigmoid/logistic function\n",
    "def sigmoid(val, beta_1, beta_2):\n",
    "     output = 1 / (1 + np.exp(-beta_1*(val-beta_2))) \n",
    "     return output"
   ]
  },
  {
   "cell_type": "code",
   "execution_count": 229,
   "metadata": {},
   "outputs": [],
   "source": [
    "# Assume (guess) beta_1 and beta_2\n",
    "beta_1 = 0.10\n",
    "beta_2 = 1990.0"
   ]
  },
  {
   "cell_type": "code",
   "execution_count": 230,
   "metadata": {},
   "outputs": [],
   "source": [
    "# Fitting the training data\n",
    "y_train_pred = sigmoid(x_train, beta_1 , beta_2)"
   ]
  },
  {
   "cell_type": "code",
   "execution_count": 231,
   "metadata": {},
   "outputs": [
    {
     "data": {
      "image/png": "[encoded data removed]",
      "text/plain": [
       "<Figure size 432x288 with 1 Axes>"
      ]
     },
     "metadata": {
      "needs_background": "light"
     },
     "output_type": "display_data"
    }
   ],
   "source": [
    "# Plot initial prediction against datapoints \n",
    "plt.plot(x_train, y_train_pred*15000000000000.,label = \"predicted\")\n",
    "plt.plot(x_train, y_train, 'ro', label = \"observed\")\n",
    "plt.legend()\n",
    "plt.show()"
   ]
  },
  {
   "cell_type": "markdown",
   "metadata": {},
   "source": [
    "#### 2. Finiding the best parameter values with curve fitting function from library "
   ]
  },
  {
   "cell_type": "markdown",
   "metadata": {},
   "source": [
    " Lets first normalize our x_train and x_train to shrink between (0 and 1)"
   ]
  },
  {
   "cell_type": "code",
   "execution_count": 232,
   "metadata": {},
   "outputs": [],
   "source": [
    "x_train = x_train/max(x_train)\n",
    "y_train = y_train/max(y_train)"
   ]
  },
  {
   "cell_type": "markdown",
   "metadata": {},
   "source": [
    "How do we find the best parameters for beta1 and beta2 for logistic function? using curve fitting from scipy library."
   ]
  },
  {
   "cell_type": "code",
   "execution_count": 233,
   "metadata": {},
   "outputs": [],
   "source": [
    "from scipy.optimize import curve_fit\n",
    "parameters, pcov = curve_fit(sigmoid, x_train, y_train)"
   ]
  },
  {
   "cell_type": "code",
   "execution_count": 234,
   "metadata": {},
   "outputs": [
    {
     "data": {
      "text/plain": [
       "array([691.77941457,   0.99721494])"
      ]
     },
     "execution_count": 234,
     "metadata": {},
     "output_type": "execute_result"
    }
   ],
   "source": [
    "parameters"
   ]
  },
  {
   "cell_type": "code",
   "execution_count": 235,
   "metadata": {},
   "outputs": [
    {
     "name": "stdout",
     "output_type": "stream",
     "text": [
      "beta1 :  691.7794145664701 \n",
      "beta2 :  0.99721493665803\n"
     ]
    }
   ],
   "source": [
    "# beta1 and beta2\n",
    "beta1, beta2 = parameters\n",
    "print(\"beta1 : \",beta1,\"\\nbeta2 : \",beta2)"
   ]
  },
  {
   "cell_type": "markdown",
   "metadata": {},
   "source": [
    "\\begin{equation}\n",
    "\\frac{1}{1+e^{\\beta_{1}(X-\\beta_{2})}}\n",
    "\\end{equation}"
   ]
  },
  {
   "cell_type": "markdown",
   "metadata": {},
   "source": [
    "With the estimated parameters values, let us predict the value for x_train"
   ]
  },
  {
   "cell_type": "code",
   "execution_count": 236,
   "metadata": {},
   "outputs": [],
   "source": [
    "y_train_pred = sigmoid(x_train, beta1, beta2)"
   ]
  },
  {
   "cell_type": "markdown",
   "metadata": {},
   "source": [
    "##### Visualizing the model"
   ]
  },
  {
   "cell_type": "code",
   "execution_count": 237,
   "metadata": {},
   "outputs": [
    {
     "data": {
      "image/png": "[encoded data removed]",
      "text/plain": [
       "<Figure size 432x288 with 1 Axes>"
      ]
     },
     "metadata": {
      "needs_background": "light"
     },
     "output_type": "display_data"
    }
   ],
   "source": [
    "plt.plot(x_train, y_train, 'ro', label = \"observed\")\n",
    "plt.plot(x_train, y_train_pred, label = \"predicted\")\n",
    "plt.legend()\n",
    "plt.show()"
   ]
  },
  {
   "cell_type": "markdown",
   "metadata": {},
   "source": [
    "##### Plotting observed GDP (x) and predicted GDP (y) for training set"
   ]
  },
  {
   "cell_type": "code",
   "execution_count": 238,
   "metadata": {},
   "outputs": [
    {
     "data": {
      "image/png": "[encoded data removed]",
      "text/plain": [
       "<Figure size 1584x504 with 1 Axes>"
      ]
     },
     "metadata": {
      "needs_background": "light"
     },
     "output_type": "display_data"
    }
   ],
   "source": [
    "# Predicting the Test set results\n",
    "x = np.arange(len(y_train_pred)) \n",
    "fig = plt.figure(figsize=(22,7)) \n",
    "plt.plot(x,y_train,\"g-+\",label=\"GDP_observed\")\n",
    "plt.plot(x,y_train_pred,\"r-*\",label=\"GDP_predicted\")\n",
    "plt.grid(b=None) \n",
    "plt.xlabel(\"Year\")\n",
    "plt.ylabel(\"GDP\")\n",
    "plt.title(\"Year vs GDP\")\n",
    "plt.legend()\n",
    "plt.show() "
   ]
  },
  {
   "cell_type": "markdown",
   "metadata": {},
   "source": [
    "#### Residual (Error) plot  "
   ]
  },
  {
   "cell_type": "markdown",
   "metadata": {},
   "source": [
    "Unlike regression, where all data points in the residual plot are near around horizontal line, data points in residual plot for polynomial regression must be around the shape of respective polynomial function."
   ]
  },
  {
   "cell_type": "code",
   "execution_count": 239,
   "metadata": {},
   "outputs": [
    {
     "data": {
      "image/png": "[encoded data removed]",
      "text/plain": [
       "<Figure size 1584x504 with 1 Axes>"
      ]
     },
     "metadata": {},
     "output_type": "display_data"
    }
   ],
   "source": [
    "sns.set_style(style='white') \n",
    "fig = plt.figure(figsize=(22,7)) \n",
    "residuals = y_train-y_train_pred\n",
    "zeros = y_train-y_train\n",
    "plt.scatter(y_train_pred,residuals,color=\"brown\")\n",
    "plt.grid(b=None) \n",
    "plt.plot(y_train_pred,zeros,\"g\")\n",
    "plt.xlabel(\"Predicted\")\n",
    "plt.ylabel(\"Residuals\")\n",
    "plt.title(\"Residual plot\") \n",
    "plt.show()"
   ]
  },
  {
   "cell_type": "markdown",
   "metadata": {},
   "source": [
    "### Different error calculations to asses the model for training set"
   ]
  },
  {
   "cell_type": "markdown",
   "metadata": {},
   "source": [
    "##### 1. Sum of Squared Error (SSE)"
   ]
  },
  {
   "cell_type": "markdown",
   "metadata": {},
   "source": [
    "\\begin{equation}\n",
    "SSE(m,b) = \\sum_{i=1}^{n}(y_{i}-\\hat y)^{2} = \\sum_{i=1}^{n}(y_{i}-(m*x_{i}+b))^{2}\n",
    "\\end{equation}"
   ]
  },
  {
   "cell_type": "code",
   "execution_count": 240,
   "metadata": {},
   "outputs": [
    {
     "name": "stdout",
     "output_type": "stream",
     "text": [
      "Sum of Squared Error (SSE) : 0.08\n"
     ]
    }
   ],
   "source": [
    "temp1 = np.square(residuals)\n",
    "Train_SSE = np.round(np.sum(temp1),2)\n",
    "print(\"Sum of Squared Error (SSE) :\",Train_SSE)"
   ]
  },
  {
   "cell_type": "markdown",
   "metadata": {},
   "source": [
    "##### 2. Mean Squared Error (MSE)"
   ]
  },
  {
   "cell_type": "markdown",
   "metadata": {},
   "source": [
    "\\begin{equation}\n",
    "MSE(m,b) = \\frac{\\sum_{i=1}^{n}(y_{i}-\\hat y)^{2}}{n} = \\frac{\\sum_{i=1}^{n}(y_{i}-(m*x_{i}+b))^{2}}{n}\n",
    "\\end{equation}"
   ]
  },
  {
   "cell_type": "code",
   "execution_count": 241,
   "metadata": {},
   "outputs": [
    {
     "name": "stdout",
     "output_type": "stream",
     "text": [
      "Mean Squared Error (MSE) : 0.0\n"
     ]
    }
   ],
   "source": [
    "n = len(x_train)\n",
    "Train_MSE = np.round(Train_SSE/n,2)\n",
    "print(\"Mean Squared Error (MSE) :\",Train_MSE)"
   ]
  },
  {
   "cell_type": "markdown",
   "metadata": {},
   "source": [
    "##### 3. Root Mean Squared Error (RMSE)"
   ]
  },
  {
   "cell_type": "markdown",
   "metadata": {},
   "source": [
    "\\begin{equation}\n",
    "RMSE(m,b) = \\sqrt{\\frac{\\sum_{i=1}^{n}(y_{i}-\\hat y)^{2}}{n}} = \\sqrt{\\frac{\\sum_{i=1}^{n}(y_{i}-(m*x_{i}+b))^{2}}{n}}\n",
    "\\end{equation}"
   ]
  },
  {
   "cell_type": "code",
   "execution_count": 242,
   "metadata": {},
   "outputs": [
    {
     "name": "stdout",
     "output_type": "stream",
     "text": [
      "Root Mean Squared Error (RMSE) : 0.0\n"
     ]
    }
   ],
   "source": [
    "Train_RMSE = np.round(np.sqrt(Train_MSE),2)\n",
    "print(\"Root Mean Squared Error (RMSE) :\",Train_RMSE)"
   ]
  },
  {
   "cell_type": "markdown",
   "metadata": {},
   "source": [
    "##### 4. Mean Absolute Error (MAE)"
   ]
  },
  {
   "cell_type": "markdown",
   "metadata": {},
   "source": [
    "\\begin{equation}\n",
    "MAE(m,b) = \\frac{\\sum_{i=1}^{n}\\left\\lvert(y_{i}-\\hat y)\\right\\lvert}{n} \n",
    "\\end{equation}"
   ]
  },
  {
   "cell_type": "code",
   "execution_count": 243,
   "metadata": {},
   "outputs": [
    {
     "name": "stdout",
     "output_type": "stream",
     "text": [
      "Mean Absolute Error (MAE) : 0.02\n"
     ]
    }
   ],
   "source": [
    "n = len(x_train)\n",
    "temp1 = np.abs(residuals)\n",
    "sum = np.sum(residuals)\n",
    "Train_MAE = np.round(sum/n,2)\n",
    "print(\"Mean Absolute Error (MAE) :\",Train_MAE)"
   ]
  },
  {
   "cell_type": "markdown",
   "metadata": {},
   "source": [
    "##### 5. Mean Absolute Percentage Error (MAPE)"
   ]
  },
  {
   "cell_type": "markdown",
   "metadata": {},
   "source": [
    "\\begin{equation}\n",
    "MAPE(m,b) = \\frac{100\\%}{n}\\sum_{i=1}^{n}\\left\\lvert\\frac{(y_{i}-\\hat y)}{y_{i}}\\right\\lvert  = \\frac{100\\%}{n}\\sum_{i=1}^{n}\\left\\lvert\\frac{(y_{i}-(m*x_{i}+b))}{y_{i}}\\right\\lvert \n",
    "\\end{equation}"
   ]
  },
  {
   "cell_type": "code",
   "execution_count": 244,
   "metadata": {},
   "outputs": [
    {
     "name": "stdout",
     "output_type": "stream",
     "text": [
      "Mean Absolute Percentage Error (MAPE) : 0.74\n"
     ]
    }
   ],
   "source": [
    "n = len(x_train)\n",
    "temp1 = residuals/y_train\n",
    "temp2 = np.abs(temp1)\n",
    "sum = np.sum(temp2)\n",
    "Train_MAPE = np.round(sum/n,2)\n",
    "print(\"Mean Absolute Percentage Error (MAPE) :\",Train_MAPE)"
   ]
  },
  {
   "cell_type": "markdown",
   "metadata": {},
   "source": [
    "### Calculating R-Squred value (goodness of model) using SSE"
   ]
  },
  {
   "cell_type": "markdown",
   "metadata": {},
   "source": [
    "\\begin{equation}\n",
    "R^{2} = 1- \\frac{SSE}{SST} = 1- \\frac{\\sum_{i=1}^{n}(y_{i}-\\hat y)^{2}}{\\sum_{i=1}^{n}(y_{i}-\\bar y)^{2}} \n",
    "\\end{equation}"
   ]
  },
  {
   "cell_type": "code",
   "execution_count": 245,
   "metadata": {
    "scrolled": true
   },
   "outputs": [
    {
     "name": "stdout",
     "output_type": "stream",
     "text": [
      "R-Squred value (goodness of model) for training set : 97.0 %\n"
     ]
    }
   ],
   "source": [
    "from sklearn.metrics import r2_score\n",
    "out = r2_score(y_train,y_train_pred)\n",
    "Train_RS = round(out,2)*100\n",
    "print(\"R-Squred value (goodness of model) for training set :\",Train_RS,\"%\")"
   ]
  },
  {
   "cell_type": "markdown",
   "metadata": {},
   "source": [
    "### Step 6: Testing phase"
   ]
  },
  {
   "cell_type": "code",
   "execution_count": 246,
   "metadata": {},
   "outputs": [],
   "source": [
    "x_test = x_test/max(x_test)\n",
    "y_test = y_test/max(y_test)"
   ]
  },
  {
   "cell_type": "code",
   "execution_count": 247,
   "metadata": {},
   "outputs": [],
   "source": [
    "y_test_pred = sigmoid(x_test, beta1, beta2)"
   ]
  },
  {
   "cell_type": "markdown",
   "metadata": {},
   "source": [
    "##### Visualizing the model"
   ]
  },
  {
   "cell_type": "code",
   "execution_count": 248,
   "metadata": {},
   "outputs": [
    {
     "data": {
      "image/png": "[encoded data removed]",
      "text/plain": [
       "<Figure size 432x288 with 1 Axes>"
      ]
     },
     "metadata": {},
     "output_type": "display_data"
    }
   ],
   "source": [
    "plt.plot(x_test, y_test, 'ro', label = \"observed\")\n",
    "plt.plot(x_test, y_test_pred, label = \"predicted\")\n",
    "plt.legend()\n",
    "plt.show()"
   ]
  },
  {
   "cell_type": "markdown",
   "metadata": {},
   "source": [
    "##### Plotting observed GDP (x) and predicted GDP (y) for training set"
   ]
  },
  {
   "cell_type": "code",
   "execution_count": 249,
   "metadata": {},
   "outputs": [
    {
     "data": {
      "image/png": "[encoded data removed]",
      "text/plain": [
       "<Figure size 1584x504 with 1 Axes>"
      ]
     },
     "metadata": {},
     "output_type": "display_data"
    }
   ],
   "source": [
    "x = np.arange(len(y_test_pred)) \n",
    "fig = plt.figure(figsize=(22,7)) \n",
    "plt.plot(x,y_test,\"g-+\",label=\"GDP_observed\")\n",
    "plt.plot(x,y_test_pred,\"r-*\",label=\"GDP_predicted\")\n",
    "plt.grid(b=None) \n",
    "plt.xlabel(\"Year\")\n",
    "plt.ylabel(\"GDP\")\n",
    "plt.title(\"Year vs GDP\")\n",
    "plt.legend()\n",
    "plt.show() "
   ]
  },
  {
   "cell_type": "markdown",
   "metadata": {},
   "source": [
    "#### Residual (Error) plot  "
   ]
  },
  {
   "cell_type": "markdown",
   "metadata": {},
   "source": [
    "Unlike regression, where all data points in the residual plot are near around horizontal line, data points in residual plot for polynomial regression must be around the shape of respective polynomial function."
   ]
  },
  {
   "cell_type": "code",
   "execution_count": 250,
   "metadata": {},
   "outputs": [
    {
     "data": {
      "image/png": "[encoded data removed]",
      "text/plain": [
       "<Figure size 1584x504 with 1 Axes>"
      ]
     },
     "metadata": {},
     "output_type": "display_data"
    }
   ],
   "source": [
    "sns.set_style(style='white') \n",
    "fig = plt.figure(figsize=(22,7)) \n",
    "residuals = y_test-y_test_pred\n",
    "zeros = y_test-y_test\n",
    "plt.scatter(y_test_pred,residuals,color=\"brown\")\n",
    "plt.grid(b=None) \n",
    "plt.plot(y_test_pred,zeros,\"g\")\n",
    "plt.xlabel(\"Predicted\")\n",
    "plt.ylabel(\"Residuals\")\n",
    "plt.title(\"Residual plot\") \n",
    "plt.show()"
   ]
  },
  {
   "cell_type": "markdown",
   "metadata": {},
   "source": [
    "### Different error calculations to asses the model for the test set"
   ]
  },
  {
   "cell_type": "markdown",
   "metadata": {},
   "source": [
    "##### 1. Sum of Squared Error (SSE)"
   ]
  },
  {
   "cell_type": "markdown",
   "metadata": {},
   "source": [
    "\\begin{equation}\n",
    "SSE(m,b) = \\sum_{i=1}^{n}(y_{i}-\\hat y)^{2} = \\sum_{i=1}^{n}(y_{i}-(m*x_{i}+b))^{2}\n",
    "\\end{equation}"
   ]
  },
  {
   "cell_type": "code",
   "execution_count": 251,
   "metadata": {},
   "outputs": [
    {
     "name": "stdout",
     "output_type": "stream",
     "text": [
      "Sum of Squared Error (SSE) : 0.06\n"
     ]
    }
   ],
   "source": [
    "temp1 = np.square(residuals)\n",
    "Test_SSE = np.round(np.sum(temp1),2)\n",
    "print(\"Sum of Squared Error (SSE) :\",Test_SSE)"
   ]
  },
  {
   "cell_type": "markdown",
   "metadata": {},
   "source": [
    "##### 2. Mean Squared Error (MSE)"
   ]
  },
  {
   "cell_type": "markdown",
   "metadata": {},
   "source": [
    "\\begin{equation}\n",
    "MSE(m,b) = \\frac{\\sum_{i=1}^{n}(y_{i}-\\hat y)^{2}}{n} = \\frac{\\sum_{i=1}^{n}(y_{i}-(m*x_{i}+b))^{2}}{n}\n",
    "\\end{equation}"
   ]
  },
  {
   "cell_type": "code",
   "execution_count": 252,
   "metadata": {},
   "outputs": [
    {
     "name": "stdout",
     "output_type": "stream",
     "text": [
      "Mean Squared Error (MSE) : 0.01\n"
     ]
    }
   ],
   "source": [
    "n = len(x_test)\n",
    "Test_MSE = np.round(Test_SSE/n,2)\n",
    "print(\"Mean Squared Error (MSE) :\",Test_MSE)"
   ]
  },
  {
   "cell_type": "markdown",
   "metadata": {},
   "source": [
    "##### 3. Root Mean Squared Error (RMSE)"
   ]
  },
  {
   "cell_type": "markdown",
   "metadata": {},
   "source": [
    "\\begin{equation}\n",
    "RMSE(m,b) = \\sqrt{\\frac{\\sum_{i=1}^{n}(y_{i}-\\hat y)^{2}}{n}} = \\sqrt{\\frac{\\sum_{i=1}^{n}(y_{i}-(m*x_{i}+b))^{2}}{n}}\n",
    "\\end{equation}"
   ]
  },
  {
   "cell_type": "code",
   "execution_count": 253,
   "metadata": {},
   "outputs": [
    {
     "name": "stdout",
     "output_type": "stream",
     "text": [
      "Root Mean Squared Error (RMSE) : 0.1\n"
     ]
    }
   ],
   "source": [
    "Test_RMSE = np.round(np.sqrt(Test_MSE),2)\n",
    "print(\"Root Mean Squared Error (RMSE) :\",Test_RMSE)"
   ]
  },
  {
   "cell_type": "markdown",
   "metadata": {},
   "source": [
    "##### 4. Mean Absolute Error (MAE)"
   ]
  },
  {
   "cell_type": "markdown",
   "metadata": {},
   "source": [
    "\\begin{equation}\n",
    "MAE(m,b) = \\frac{\\sum_{i=1}^{n}\\left\\lvert(y_{i}-\\hat y)\\right\\lvert}{n} \n",
    "\\end{equation}"
   ]
  },
  {
   "cell_type": "code",
   "execution_count": 254,
   "metadata": {},
   "outputs": [
    {
     "name": "stdout",
     "output_type": "stream",
     "text": [
      "Mean Absolute Error (MAE) : 0.01\n"
     ]
    }
   ],
   "source": [
    "n = len(x_test)\n",
    "temp1 = np.abs(residuals)\n",
    "sum = np.sum(residuals)\n",
    "Test_MAE = np.round(sum/n,2)\n",
    "print(\"Mean Absolute Error (MAE) :\",Test_MAE)"
   ]
  },
  {
   "cell_type": "markdown",
   "metadata": {},
   "source": [
    "##### 5. Mean Absolute Percentage Error (MAPE)"
   ]
  },
  {
   "cell_type": "markdown",
   "metadata": {},
   "source": [
    "\\begin{equation}\n",
    "MAPE(m,b) = \\frac{100\\%}{n}\\sum_{i=1}^{n}\\left\\lvert\\frac{(y_{i}-\\hat y)}{y_{i}}\\right\\lvert  = \\frac{100\\%}{n}\\sum_{i=1}^{n}\\left\\lvert\\frac{(y_{i}-(m*x_{i}+b))}{y_{i}}\\right\\lvert \n",
    "\\end{equation}"
   ]
  },
  {
   "cell_type": "code",
   "execution_count": 255,
   "metadata": {},
   "outputs": [
    {
     "name": "stdout",
     "output_type": "stream",
     "text": [
      "Mean Absolute Percentage Error (MAPE) : 0.79\n"
     ]
    }
   ],
   "source": [
    "n = len(x_test)\n",
    "temp1 = residuals/y_test\n",
    "temp2 = np.abs(temp1)\n",
    "sum = np.sum(temp2)\n",
    "Test_MAPE = np.round(sum/n,2)\n",
    "print(\"Mean Absolute Percentage Error (MAPE) :\",Test_MAPE)"
   ]
  },
  {
   "cell_type": "markdown",
   "metadata": {},
   "source": [
    "### Calculating R-Squred value (goodness of model) using SSE"
   ]
  },
  {
   "cell_type": "markdown",
   "metadata": {},
   "source": [
    "\\begin{equation}\n",
    "R^{2} = 1- \\frac{SSE}{SST} = 1- \\frac{\\sum_{i=1}^{n}(y_{i}-\\hat y)^{2}}{\\sum_{i=1}^{n}(y_{i}-\\bar y)^{2}} \n",
    "\\end{equation}"
   ]
  },
  {
   "cell_type": "code",
   "execution_count": 256,
   "metadata": {
    "scrolled": true
   },
   "outputs": [
    {
     "name": "stdout",
     "output_type": "stream",
     "text": [
      "R-Squred value (goodness of model) for training set : 94.0 %\n"
     ]
    }
   ],
   "source": [
    "from sklearn.metrics import r2_score\n",
    "out = r2_score(y_test,y_test_pred)\n",
    "Test_RS = round(out,2)*100\n",
    "print(\"R-Squred value (goodness of model) for training set :\",Test_RS,\"%\")"
   ]
  },
  {
   "cell_type": "markdown",
   "metadata": {},
   "source": [
    "### Underfitting and overfitting observation"
   ]
  },
  {
   "cell_type": "code",
   "execution_count": 257,
   "metadata": {},
   "outputs": [
    {
     "name": "stdout",
     "output_type": "stream",
     "text": [
      "Error \t From training phase              From testing phase \n",
      "=============================================================\n",
      "SSE   \t 0.08 \t\t 0.06\n",
      "MSE   \t 0.0 \t\t 0.01\n",
      "RMSE   \t 0.0 \t\t 0.1\n",
      "MAE   \t 0.02 \t\t 0.01\n",
      "RS   \t 97.0 \t\t 94.0\n"
     ]
    }
   ],
   "source": [
    "print(\"Error \\t From training phase              From testing phase \")\n",
    "print(\"=============================================================\")\n",
    "print(\"SSE   \\t\",Train_SSE,\"\\t\\t\", Test_SSE)\n",
    "print(\"MSE   \\t\",Train_MSE,\"\\t\\t\", Test_MSE)\n",
    "print(\"RMSE   \\t\",Train_RMSE,\"\\t\\t\", Test_RMSE)\n",
    "print(\"MAE   \\t\",Train_MAE,\"\\t\\t\", Test_MAE)\n",
    "print(\"RS   \\t\",Train_RS,\"\\t\\t\", Test_RS)"
   ]
  }
 ],
 "metadata": {
  "kernelspec": {
   "display_name": "Python 3",
   "language": "python",
   "name": "python3"
  },
  "language_info": {
   "codemirror_mode": {
    "name": "ipython",
    "version": 3
   },
   "file_extension": ".py",
   "mimetype": "text/x-python",
   "name": "python",
   "nbconvert_exporter": "python",
   "pygments_lexer": "ipython3",
   "version": "3.8.5"
  }
 },
 "nbformat": 4,
 "nbformat_minor": 4
}
