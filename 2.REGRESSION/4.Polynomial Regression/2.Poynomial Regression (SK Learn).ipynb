{
 "cells": [
  {
   "cell_type": "markdown",
   "metadata": {},
   "source": [
    "<div align=\"center\">\n",
    "  <b> <font size=\"6\">Polynomial Regression (Non-Linear fitting)</font> </b>\n",
    "</div>"
   ]
  },
  {
   "cell_type": "markdown",
   "metadata": {},
   "source": [
    "<div align=\"center\">\n",
    "  <b> <font size=\"4\">Let us work on a real dataset with Sci-Kit (SK) Learn </font> </b>\n",
    "</div>\n"
   ]
  },
  {
   "cell_type": "markdown",
   "metadata": {},
   "source": [
    "<div align=\"center\">\n",
    "  <b> <font size=\"2\"> It is not non-linear regression </font> </b>\n",
    "</div>"
   ]
  },
  {
   "cell_type": "markdown",
   "metadata": {},
   "source": [
    "<div>\n",
    "   <font size=\"2\">I will explain with linear, poly-order 2, poly-order 3, poly-order 20, poly-order 40. <br>  <br> I am not going to split dataset into training and testing set.  <br> <br> I will show you the implementation with whole dataset fitting with the model, SSE, and R_sqaure.  <br> <br> You can split dataset into training and testing set and practice with the code. </font>  \n",
    "    \n",
    "</div>"
   ]
  },
  {
   "cell_type": "code",
   "execution_count": 1,
   "metadata": {
    "scrolled": true
   },
   "outputs": [],
   "source": [
    "# Import necessary package\n",
    "import pandas as pd\n",
    "import numpy as np\n",
    "import matplotlib.pyplot as plt \n",
    "import seaborn as sns\n",
    "import warnings\n",
    "warnings.filterwarnings(\"ignore\")\n",
    "%matplotlib inline"
   ]
  },
  {
   "cell_type": "markdown",
   "metadata": {},
   "source": [
    "### 1. Linear Regression"
   ]
  },
  {
   "cell_type": "markdown",
   "metadata": {},
   "source": [
    "##### Dataset "
   ]
  },
  {
   "cell_type": "code",
   "execution_count": 2,
   "metadata": {},
   "outputs": [],
   "source": [
    "# Let us work with sample data\n",
    "import numpy as np\n",
    "import matplotlib.pyplot as plt\n",
    "\n",
    "np.random.seed(0)\n",
    "x = 2 - 3 * np.random.normal(0, 1, 50)\n",
    "y = x - 2 * (x ** 2) + 0.5 * (x ** 3) + np.random.normal(-3, 3, 50)"
   ]
  },
  {
   "cell_type": "markdown",
   "metadata": {},
   "source": [
    "##### Data visualization"
   ]
  },
  {
   "cell_type": "code",
   "execution_count": 3,
   "metadata": {},
   "outputs": [
    {
     "data": {
      "image/png": "[encoded data removed]",
      "text/plain": [
       "<Figure size 432x288 with 1 Axes>"
      ]
     },
     "metadata": {
      "needs_background": "light"
     },
     "output_type": "display_data"
    }
   ],
   "source": [
    "plt.scatter(x,y, s=5)\n",
    "plt.xlabel(\"X\")\n",
    "plt.ylabel(\"Y\") \n",
    "plt.show()"
   ]
  },
  {
   "cell_type": "markdown",
   "metadata": {},
   "source": [
    "##### Fitting with simple regression using sklearn"
   ]
  },
  {
   "cell_type": "code",
   "execution_count": 4,
   "metadata": {},
   "outputs": [
    {
     "data": {
      "text/plain": [
       "LinearRegression()"
      ]
     },
     "execution_count": 4,
     "metadata": {},
     "output_type": "execute_result"
    }
   ],
   "source": [
    "# Fitting and plotting the predicted value\n",
    "from sklearn.linear_model import LinearRegression\n",
    "x = x.reshape(-1,1)\n",
    " \n",
    "# Fit the linear model\n",
    "model = LinearRegression()\n",
    "model.fit(x, y)"
   ]
  },
  {
   "cell_type": "markdown",
   "metadata": {},
   "source": [
    "##### Predict the output for training input values using the models"
   ]
  },
  {
   "cell_type": "code",
   "execution_count": 5,
   "metadata": {},
   "outputs": [],
   "source": [
    "y_pred = model.predict(x)"
   ]
  },
  {
   "cell_type": "code",
   "execution_count": 6,
   "metadata": {},
   "outputs": [
    {
     "data": {
      "text/plain": [
       "array([12.91501245])"
      ]
     },
     "execution_count": 6,
     "metadata": {},
     "output_type": "execute_result"
    }
   ],
   "source": [
    "model.coef_"
   ]
  },
  {
   "cell_type": "code",
   "execution_count": 7,
   "metadata": {},
   "outputs": [
    {
     "data": {
      "text/plain": [
       "-18.161443351033988"
      ]
     },
     "execution_count": 7,
     "metadata": {},
     "output_type": "execute_result"
    }
   ],
   "source": [
    "model.intercept_"
   ]
  },
  {
   "cell_type": "code",
   "execution_count": 8,
   "metadata": {},
   "outputs": [
    {
     "name": "stdout",
     "output_type": "stream",
     "text": [
      "y = mx + b =>   y =  [12.91501245] x + -18.161443351033988\n"
     ]
    }
   ],
   "source": [
    "print(\"y = mx + b =>   y = \", model.coef_ ,\"x +\",model.intercept_)"
   ]
  },
  {
   "cell_type": "markdown",
   "metadata": {},
   "source": [
    "##### Visualizting the prediction performance"
   ]
  },
  {
   "cell_type": "code",
   "execution_count": 9,
   "metadata": {},
   "outputs": [
    {
     "data": {
      "image/png": "[encoded data removed]",
      "text/plain": [
       "<Figure size 432x288 with 1 Axes>"
      ]
     },
     "metadata": {
      "needs_background": "light"
     },
     "output_type": "display_data"
    }
   ],
   "source": [
    "# Plotting\n",
    "plt.scatter(x, y, s=10)\n",
    "plt.plot(x, y_pred, color='r')\n",
    "plt.show()"
   ]
  },
  {
   "cell_type": "markdown",
   "metadata": {},
   "source": [
    "##### Calculating SSE"
   ]
  },
  {
   "cell_type": "code",
   "execution_count": 10,
   "metadata": {},
   "outputs": [
    {
     "name": "stdout",
     "output_type": "stream",
     "text": [
      "Sum of Squared Error (SSE) for Linear model: 50092.13\n"
     ]
    }
   ],
   "source": [
    "# SSE\n",
    "sum = 0   \n",
    "n = len(x)  \n",
    "for i in range (0,n):   \n",
    "  diff = y[i] - y_pred[i]   \n",
    "  squ_diff = diff**2   \n",
    "  sum = sum + squ_diff   \n",
    "SSE_Linear = round(sum,2)\n",
    "print(\"Sum of Squared Error (SSE) for Linear model:\",SSE_Linear )"
   ]
  },
  {
   "cell_type": "markdown",
   "metadata": {},
   "source": [
    "##### Calculating R_2"
   ]
  },
  {
   "cell_type": "code",
   "execution_count": 11,
   "metadata": {},
   "outputs": [
    {
     "name": "stdout",
     "output_type": "stream",
     "text": [
      "R-Squred value for Linear model : 65.0 %\n"
     ]
    }
   ],
   "source": [
    "# Calculating R-Squred value (goodness of model) using SSE\n",
    "from sklearn.metrics import r2_score\n",
    "out = r2_score(y,y_pred)\n",
    "RS_Linear = round(out,2)*100\n",
    "print(\"R-Squred value for Linear model :\",RS_Linear,\"%\")  "
   ]
  },
  {
   "cell_type": "markdown",
   "metadata": {},
   "source": [
    "This linear model did not fit well. So, let us try with complicate models (polynomial)"
   ]
  },
  {
   "cell_type": "markdown",
   "metadata": {},
   "source": [
    "### 2. Polynomial regression (degree 2)"
   ]
  },
  {
   "cell_type": "markdown",
   "metadata": {},
   "source": [
    "##### Dataset"
   ]
  },
  {
   "cell_type": "code",
   "execution_count": 12,
   "metadata": {},
   "outputs": [],
   "source": [
    "# Let us work with sample data\n",
    "import numpy as np\n",
    "import matplotlib.pyplot as plt\n",
    "\n",
    "np.random.seed(0)\n",
    "x = 2 - 3 * np.random.normal(0, 1, 50)\n",
    "y = x - 2 * (x ** 2) + 0.5 * (x ** 3) + np.random.normal(-3, 3, 50)"
   ]
  },
  {
   "cell_type": "markdown",
   "metadata": {},
   "source": [
    "##### Data visualization"
   ]
  },
  {
   "cell_type": "code",
   "execution_count": 13,
   "metadata": {},
   "outputs": [
    {
     "data": {
      "image/png": "[encoded data removed]",
      "text/plain": [
       "<Figure size 432x288 with 1 Axes>"
      ]
     },
     "metadata": {
      "needs_background": "light"
     },
     "output_type": "display_data"
    }
   ],
   "source": [
    "plt.scatter(x,y, s=5)\n",
    "plt.xlabel(\"X\")\n",
    "plt.ylabel(\"Y\") \n",
    "plt.show()"
   ]
  },
  {
   "cell_type": "markdown",
   "metadata": {},
   "source": [
    "##### Fitting with polynomial order 2 using sklearn"
   ]
  },
  {
   "cell_type": "code",
   "execution_count": 14,
   "metadata": {},
   "outputs": [
    {
     "data": {
      "text/plain": [
       "LinearRegression()"
      ]
     },
     "execution_count": 14,
     "metadata": {},
     "output_type": "execute_result"
    }
   ],
   "source": [
    "import operator  \n",
    "from sklearn.preprocessing import PolynomialFeatures\n",
    "\n",
    "# To convert the original features into their higher order terms \n",
    "x = x.reshape(-1,1)\n",
    "polynomial_features= PolynomialFeatures(degree=2)\n",
    "x_poly = polynomial_features.fit_transform(x)\n",
    "\n",
    "# Fit the polynomial model with degree 2\n",
    "model = LinearRegression()\n",
    "model.fit(x_poly, y)"
   ]
  },
  {
   "cell_type": "code",
   "execution_count": 15,
   "metadata": {},
   "outputs": [
    {
     "data": {
      "text/plain": [
       "array([0.        , 8.88674291, 1.11862126])"
      ]
     },
     "execution_count": 15,
     "metadata": {},
     "output_type": "execute_result"
    }
   ],
   "source": [
    "parameters = model.coef_\n",
    "parameters"
   ]
  },
  {
   "cell_type": "code",
   "execution_count": 16,
   "metadata": {},
   "outputs": [
    {
     "name": "stdout",
     "output_type": "stream",
     "text": [
      "a x_2 + b x + c =>  1.12  x_2 + 8.89  x +  0.0\n"
     ]
    }
   ],
   "source": [
    "print(\"a x_2 + b x + c => \", round(parameters[2],2),\" x_2 +\",round(parameters[1],2),\" x + \",round(parameters[0],2))"
   ]
  },
  {
   "cell_type": "markdown",
   "metadata": {},
   "source": [
    "##### Predict the output for training input values using the models"
   ]
  },
  {
   "cell_type": "code",
   "execution_count": 17,
   "metadata": {},
   "outputs": [],
   "source": [
    "y_poly_2_pred = model.predict(x_poly)\n",
    "y_poly_2_pred_temp = y_poly_2_pred"
   ]
  },
  {
   "cell_type": "markdown",
   "metadata": {},
   "source": [
    "##### Visualizting the prediction performance"
   ]
  },
  {
   "cell_type": "code",
   "execution_count": 18,
   "metadata": {},
   "outputs": [
    {
     "data": {
      "image/png": "[encoded data removed]",
      "text/plain": [
       "<Figure size 432x288 with 1 Axes>"
      ]
     },
     "metadata": {
      "needs_background": "light"
     },
     "output_type": "display_data"
    }
   ],
   "source": [
    "# Plotting polynomial degree 2 model\n",
    "plt.scatter(x, y, s=10) \n",
    "\n",
    "# sort the values of x before plotting for polynomial line\n",
    "sort_axis = operator.itemgetter(0)\n",
    "sorted_zip = sorted(zip(x,y_poly_2_pred), key=sort_axis)\n",
    "mod_x2, y_poly_2_pred = zip(*sorted_zip)\n",
    "plt.plot(mod_x2, y_poly_2_pred, color=\"green\" ,label=\"Polynomial-2\")\n",
    "\n",
    "plt.xlabel(\"X\")\n",
    "plt.ylabel(\"Y\")\n",
    "plt.legend()\n",
    "plt.show()"
   ]
  },
  {
   "cell_type": "code",
   "execution_count": 19,
   "metadata": {},
   "outputs": [
    {
     "data": {
      "image/png": "[encoded data removed]",
      "text/plain": [
       "<Figure size 432x288 with 1 Axes>"
      ]
     },
     "metadata": {
      "needs_background": "light"
     },
     "output_type": "display_data"
    }
   ],
   "source": [
    "# Comparison with linear model  \n",
    "plt.scatter(x, y, s=10)\n",
    "plt.plot(x, y_pred, color='r',label=\"Linear\")\n",
    "\n",
    "plt.plot(mod_x2, y_poly_2_pred, \"g--\",label=\"Polynomial-2\")\n",
    "\n",
    "plt.xlabel(\"X\")\n",
    "plt.ylabel(\"Y\")\n",
    "plt.legend()\n",
    "plt.show()"
   ]
  },
  {
   "cell_type": "markdown",
   "metadata": {},
   "source": [
    "##### Calculating SSE"
   ]
  },
  {
   "cell_type": "code",
   "execution_count": 20,
   "metadata": {},
   "outputs": [
    {
     "name": "stdout",
     "output_type": "stream",
     "text": [
      "Sum of Squared Error (SSE) for Polynomial degree 2 model: 37989.36\n"
     ]
    }
   ],
   "source": [
    "# SSE\n",
    "sum = 0   \n",
    "n = len(x)  \n",
    "for i in range (0,n):   \n",
    "  diff = y[i] - y_poly_2_pred_temp[i]   \n",
    "  squ_diff = diff**2   \n",
    "  sum = sum + squ_diff   \n",
    "SSE_Poly_2 = round(sum,2)\n",
    "print(\"Sum of Squared Error (SSE) for Polynomial degree 2 model:\",SSE_Poly_2)"
   ]
  },
  {
   "cell_type": "markdown",
   "metadata": {},
   "source": [
    "##### Calculating R_2"
   ]
  },
  {
   "cell_type": "code",
   "execution_count": 21,
   "metadata": {},
   "outputs": [
    {
     "name": "stdout",
     "output_type": "stream",
     "text": [
      "R-Squred value for Linear model : 74.0 %\n"
     ]
    }
   ],
   "source": [
    "# Calculating R-Squred value (goodness of model) using SSE\n",
    "from sklearn.metrics import r2_score\n",
    "out = r2_score(y,y_poly_2_pred_temp)\n",
    "RS_Poly_2 = round(out,2)*100\n",
    "print(\"R-Squred value for Linear model :\",RS_Poly_2,\"%\")  "
   ]
  },
  {
   "cell_type": "markdown",
   "metadata": {},
   "source": [
    "Still, the polynomial with degree 2 did not fit the shape of the data points fully"
   ]
  },
  {
   "cell_type": "markdown",
   "metadata": {},
   "source": [
    "### 3. Polynomial regression (degree 3)"
   ]
  },
  {
   "cell_type": "markdown",
   "metadata": {},
   "source": [
    "##### Dataset"
   ]
  },
  {
   "cell_type": "code",
   "execution_count": 22,
   "metadata": {},
   "outputs": [],
   "source": [
    "# Let us work with sample data\n",
    "import numpy as np\n",
    "import matplotlib.pyplot as plt\n",
    "\n",
    "np.random.seed(0)\n",
    "x = 2 - 3 * np.random.normal(0, 1, 50)\n",
    "y = x - 2 * (x ** 2) + 0.5 * (x ** 3) + np.random.normal(-3, 3, 50)"
   ]
  },
  {
   "cell_type": "markdown",
   "metadata": {},
   "source": [
    "##### Data visualization"
   ]
  },
  {
   "cell_type": "code",
   "execution_count": 23,
   "metadata": {},
   "outputs": [
    {
     "data": {
      "image/png": "[encoded data removed]",
      "text/plain": [
       "<Figure size 432x288 with 1 Axes>"
      ]
     },
     "metadata": {
      "needs_background": "light"
     },
     "output_type": "display_data"
    }
   ],
   "source": [
    "plt.scatter(x,y, s=5)\n",
    "plt.xlabel(\"X\")\n",
    "plt.ylabel(\"Y\") \n",
    "plt.show()"
   ]
  },
  {
   "cell_type": "markdown",
   "metadata": {},
   "source": [
    "##### Fitting with polynomial order 3 using sklearn"
   ]
  },
  {
   "cell_type": "code",
   "execution_count": 24,
   "metadata": {},
   "outputs": [
    {
     "data": {
      "text/plain": [
       "LinearRegression()"
      ]
     },
     "execution_count": 24,
     "metadata": {},
     "output_type": "execute_result"
    }
   ],
   "source": [
    "import operator  \n",
    "from sklearn.preprocessing import PolynomialFeatures\n",
    "\n",
    "# To convert the original features into their higher order terms \n",
    "x = x.reshape(-1,1)\n",
    "polynomial_features= PolynomialFeatures(degree=3)\n",
    "x_poly = polynomial_features.fit_transform(x)\n",
    "\n",
    "# Fit the polynomial model with degree 3\n",
    "model = LinearRegression()\n",
    "model.fit(x_poly, y)"
   ]
  },
  {
   "cell_type": "code",
   "execution_count": 25,
   "metadata": {},
   "outputs": [
    {
     "data": {
      "text/plain": [
       "array([ 0.        ,  1.03253842, -2.02525278,  0.50272631])"
      ]
     },
     "execution_count": 25,
     "metadata": {},
     "output_type": "execute_result"
    }
   ],
   "source": [
    "parameters = model.coef_\n",
    "parameters"
   ]
  },
  {
   "cell_type": "code",
   "execution_count": 26,
   "metadata": {},
   "outputs": [
    {
     "name": "stdout",
     "output_type": "stream",
     "text": [
      "a x_2 + b x + c =>  0.503  x_3 + 0.5  x_2 + 1.03  x +  0.0\n"
     ]
    }
   ],
   "source": [
    "print(\"a x_2 + b x + c => \", round(parameters[3],3),\" x_3 +\", round(parameters[3],2),\" x_2 +\",round(parameters[1],2),\" x + \",round(parameters[0],2))"
   ]
  },
  {
   "cell_type": "markdown",
   "metadata": {},
   "source": [
    "##### Predict the output for training input values using the model"
   ]
  },
  {
   "cell_type": "code",
   "execution_count": 27,
   "metadata": {},
   "outputs": [],
   "source": [
    "y_poly_3_pred = model.predict(x_poly)\n",
    "y_poly_3_pred_temp = y_poly_3_pred"
   ]
  },
  {
   "cell_type": "markdown",
   "metadata": {},
   "source": [
    "##### Visualizting the prediction performance¶"
   ]
  },
  {
   "cell_type": "code",
   "execution_count": 28,
   "metadata": {},
   "outputs": [
    {
     "data": {
      "image/png": "[encoded data removed]",
      "text/plain": [
       "<Figure size 432x288 with 1 Axes>"
      ]
     },
     "metadata": {
      "needs_background": "light"
     },
     "output_type": "display_data"
    }
   ],
   "source": [
    "# Plotting polynomial degree 3 model\n",
    "plt.scatter(x, y, s=10) \n",
    "\n",
    "# sort the values of x before plotting for polynomial line\n",
    "sort_axis = operator.itemgetter(0)\n",
    "sorted_zip = sorted(zip(x,y_poly_3_pred), key=sort_axis)\n",
    "mod_x3, y_poly_3_pred = zip(*sorted_zip)\n",
    "plt.plot(mod_x3, y_poly_3_pred, color='m',label=\"Polynomial-3\")\n",
    "\n",
    "plt.xlabel(\"X\")\n",
    "plt.ylabel(\"Y\")\n",
    "plt.legend()\n",
    "plt.show()"
   ]
  },
  {
   "cell_type": "code",
   "execution_count": 29,
   "metadata": {},
   "outputs": [
    {
     "data": {
      "image/png": "[encoded data removed]",
      "text/plain": [
       "<Figure size 432x288 with 1 Axes>"
      ]
     },
     "metadata": {
      "needs_background": "light"
     },
     "output_type": "display_data"
    }
   ],
   "source": [
    "# Plotting linear, polynomial degree 2, and degree 3 models\n",
    "plt.scatter(x, y, s=10)\n",
    "plt.plot(x, y_pred, color='r',label=\"Linear\")\n",
    "\n",
    "plt.plot(mod_x2, y_poly_2_pred, \"g--\",label=\"Polynomial-2\")\n",
    "plt.plot(mod_x3, y_poly_3_pred, \"m:\",label=\"Polynomial-3\")\n",
    "\n",
    "plt.xlabel(\"X\")\n",
    "plt.ylabel(\"Y\")\n",
    "plt.legend()\n",
    "plt.show()"
   ]
  },
  {
   "cell_type": "markdown",
   "metadata": {},
   "source": [
    "##### Calculating SSE"
   ]
  },
  {
   "cell_type": "code",
   "execution_count": 30,
   "metadata": {},
   "outputs": [
    {
     "name": "stdout",
     "output_type": "stream",
     "text": [
      "Sum of Squared Error (SSE) for Polynomial degree 3 model: 335.37\n"
     ]
    }
   ],
   "source": [
    "# SSE\n",
    "sum = 0   \n",
    "n = len(x)  \n",
    "for i in range (0,n):   \n",
    "  diff = y[i] - y_poly_3_pred_temp[i]   \n",
    "  squ_diff = diff**2   \n",
    "  sum = sum + squ_diff   \n",
    "SSE_Poly_3 = round(sum,2)\n",
    "print(\"Sum of Squared Error (SSE) for Polynomial degree 3 model:\",SSE_Poly_3)"
   ]
  },
  {
   "cell_type": "markdown",
   "metadata": {},
   "source": [
    "##### Calculating R_2"
   ]
  },
  {
   "cell_type": "code",
   "execution_count": 31,
   "metadata": {},
   "outputs": [
    {
     "name": "stdout",
     "output_type": "stream",
     "text": [
      "R-Squred value for Linear model : 100.0 %\n"
     ]
    }
   ],
   "source": [
    "# Calculating R-Squred value (goodness of model) using SSE\n",
    "from sklearn.metrics import r2_score\n",
    "out = r2_score(y, y_poly_3_pred_temp)\n",
    "RS_Poly_3 = round(out,2)*100\n",
    "print(\"R-Squred value for Linear model :\",RS_Poly_3,\"%\")  "
   ]
  },
  {
   "cell_type": "markdown",
   "metadata": {},
   "source": [
    "### 4. Polynomial regression (degree 20)"
   ]
  },
  {
   "cell_type": "markdown",
   "metadata": {},
   "source": [
    "##### Dataset"
   ]
  },
  {
   "cell_type": "code",
   "execution_count": 32,
   "metadata": {},
   "outputs": [],
   "source": [
    "# Let us work with sample data\n",
    "import numpy as np\n",
    "import matplotlib.pyplot as plt\n",
    "\n",
    "np.random.seed(0)\n",
    "x = 2 - 3 * np.random.normal(0, 1, 50)\n",
    "y = x - 2 * (x ** 2) + 0.5 * (x ** 3) + np.random.normal(-3, 3, 50)"
   ]
  },
  {
   "cell_type": "markdown",
   "metadata": {},
   "source": [
    "###### Data visualization"
   ]
  },
  {
   "cell_type": "code",
   "execution_count": 33,
   "metadata": {},
   "outputs": [
    {
     "data": {
      "image/png": "[encoded data removed]",
      "text/plain": [
       "<Figure size 432x288 with 1 Axes>"
      ]
     },
     "metadata": {
      "needs_background": "light"
     },
     "output_type": "display_data"
    }
   ],
   "source": [
    "plt.scatter(x,y, s=5)\n",
    "plt.xlabel(\"X\")\n",
    "plt.ylabel(\"Y\") \n",
    "plt.show()"
   ]
  },
  {
   "cell_type": "markdown",
   "metadata": {},
   "source": [
    "##### Fitting with polynomial order 20 using sklearn"
   ]
  },
  {
   "cell_type": "code",
   "execution_count": 34,
   "metadata": {},
   "outputs": [
    {
     "data": {
      "text/plain": [
       "LinearRegression()"
      ]
     },
     "execution_count": 34,
     "metadata": {},
     "output_type": "execute_result"
    }
   ],
   "source": [
    "import operator  \n",
    "from sklearn.preprocessing import PolynomialFeatures\n",
    "\n",
    "# To convert the original features into their higher order terms \n",
    "x = x.reshape(-1,1)\n",
    "polynomial_features= PolynomialFeatures(degree=20)\n",
    "x_poly = polynomial_features.fit_transform(x)\n",
    "\n",
    "# Fit the polynomial model with degree 20\n",
    "model = LinearRegression()\n",
    "model.fit(x_poly, y)"
   ]
  },
  {
   "cell_type": "code",
   "execution_count": 35,
   "metadata": {},
   "outputs": [
    {
     "data": {
      "text/plain": [
       "array([ 0.00000000e+00, -5.80638670e-06, -2.56142132e-07,  9.42812966e-08,\n",
       "       -2.73251778e-06, -3.34809132e-07, -2.43337476e-05, -7.54489766e-06,\n",
       "       -1.71053188e-04, -2.84858587e-05, -7.09124271e-04,  3.68238868e-04,\n",
       "        4.14974138e-05, -4.81533446e-05,  4.22600515e-06,  1.82032258e-06,\n",
       "       -3.64019229e-07, -3.75353258e-09,  6.52750301e-09, -6.24426594e-10,\n",
       "        1.90018733e-11])"
      ]
     },
     "execution_count": 35,
     "metadata": {},
     "output_type": "execute_result"
    }
   ],
   "source": [
    "parameters = model.coef_\n",
    "parameters"
   ]
  },
  {
   "cell_type": "markdown",
   "metadata": {},
   "source": [
    "##### Predict the output for training input values using the model"
   ]
  },
  {
   "cell_type": "code",
   "execution_count": 36,
   "metadata": {},
   "outputs": [],
   "source": [
    "y_poly_20_pred = model.predict(x_poly)\n",
    "y_poly_20_pred_temp = y_poly_20_pred"
   ]
  },
  {
   "cell_type": "markdown",
   "metadata": {},
   "source": [
    "##### Visualizting the prediction performance"
   ]
  },
  {
   "cell_type": "code",
   "execution_count": 37,
   "metadata": {},
   "outputs": [
    {
     "data": {
      "image/png": "[encoded data removed]",
      "text/plain": [
       "<Figure size 432x288 with 1 Axes>"
      ]
     },
     "metadata": {
      "needs_background": "light"
     },
     "output_type": "display_data"
    }
   ],
   "source": [
    "# Plotting polynomial degree 3 model\n",
    "plt.scatter(x, y, s=10) \n",
    "\n",
    "# sort the values of x before plotting for polynomial line\n",
    "sort_axis = operator.itemgetter(0)\n",
    "sorted_zip = sorted(zip(x,y_poly_20_pred), key=sort_axis)\n",
    "mod_x20, y_poly_20_pred = zip(*sorted_zip)\n",
    "plt.plot(mod_x20, y_poly_20_pred, color='k',label=\"Polynomial-20\")\n",
    "\n",
    "plt.xlabel(\"X\")\n",
    "plt.ylabel(\"Y\")\n",
    "plt.legend()\n",
    "plt.show()"
   ]
  },
  {
   "cell_type": "code",
   "execution_count": 38,
   "metadata": {},
   "outputs": [
    {
     "data": {
      "image/png": "[encoded data removed]",
      "text/plain": [
       "<Figure size 432x288 with 1 Axes>"
      ]
     },
     "metadata": {
      "needs_background": "light"
     },
     "output_type": "display_data"
    }
   ],
   "source": [
    "# Plotting linear, polynomial degree 2, and degree 3 models\n",
    "plt.scatter(x, y, s=10)\n",
    "plt.plot(x, y_pred, color='r',label=\"Linear\")\n",
    "\n",
    "plt.plot(mod_x2, y_poly_2_pred, \"g--\",label=\"Polynomial-2\")\n",
    "plt.plot(mod_x3, y_poly_3_pred, \"m:\",label=\"Polynomial-3\")\n",
    "plt.plot(mod_x20, y_poly_20_pred, \"k-\",label=\"Polynomial-20\")\n",
    "\n",
    "plt.xlabel(\"X\")\n",
    "plt.ylabel(\"Y\")\n",
    "plt.legend()\n",
    "plt.show()"
   ]
  },
  {
   "cell_type": "markdown",
   "metadata": {},
   "source": [
    "##### Calculating SSE"
   ]
  },
  {
   "cell_type": "code",
   "execution_count": 39,
   "metadata": {},
   "outputs": [
    {
     "name": "stdout",
     "output_type": "stream",
     "text": [
      "Sum of Squared Error (SSE) for Polynomial degree 3 model: 1412.95\n"
     ]
    }
   ],
   "source": [
    "# SSE\n",
    "sum = 0   \n",
    "n = len(x)  \n",
    "for i in range (0,n):   \n",
    "  diff = y[i] - y_poly_20_pred_temp[i]   \n",
    "  squ_diff = diff**2   \n",
    "  sum = sum + squ_diff   \n",
    "SSE_Poly_20 = round(sum,2)\n",
    "print(\"Sum of Squared Error (SSE) for Polynomial degree 3 model:\",SSE_Poly_20)"
   ]
  },
  {
   "cell_type": "markdown",
   "metadata": {},
   "source": [
    "##### Calculating R_2"
   ]
  },
  {
   "cell_type": "code",
   "execution_count": 40,
   "metadata": {},
   "outputs": [
    {
     "name": "stdout",
     "output_type": "stream",
     "text": [
      "R-Squred value for Linear model : 99.0 %\n"
     ]
    }
   ],
   "source": [
    "# Calculating R-Squred value (goodness of model) using SSE\n",
    "from sklearn.metrics import r2_score\n",
    "out = r2_score(y, y_poly_20_pred_temp)\n",
    "RS_Poly_20 = round(out,2)*100\n",
    "print(\"R-Squred value for Linear model :\",RS_Poly_20,\"%\")  "
   ]
  },
  {
   "cell_type": "markdown",
   "metadata": {},
   "source": [
    "### 5. Polynomial regression (degree 40)"
   ]
  },
  {
   "cell_type": "markdown",
   "metadata": {},
   "source": [
    "##### Dataset"
   ]
  },
  {
   "cell_type": "code",
   "execution_count": 41,
   "metadata": {},
   "outputs": [],
   "source": [
    "# Let us work with sample data\n",
    "import numpy as np\n",
    "import matplotlib.pyplot as plt\n",
    "\n",
    "np.random.seed(0)\n",
    "x = 2 - 3 * np.random.normal(0, 1, 50)\n",
    "y = x - 2 * (x ** 2) + 0.5 * (x ** 3) + np.random.normal(-3, 3, 50)"
   ]
  },
  {
   "cell_type": "markdown",
   "metadata": {},
   "source": [
    "##### Data visualization"
   ]
  },
  {
   "cell_type": "code",
   "execution_count": 42,
   "metadata": {},
   "outputs": [
    {
     "data": {
      "image/png": "[encoded data removed]",
      "text/plain": [
       "<Figure size 432x288 with 1 Axes>"
      ]
     },
     "metadata": {
      "needs_background": "light"
     },
     "output_type": "display_data"
    }
   ],
   "source": [
    "plt.scatter(x,y, s=5)\n",
    "plt.xlabel(\"X\")\n",
    "plt.ylabel(\"Y\") \n",
    "plt.show()"
   ]
  },
  {
   "cell_type": "markdown",
   "metadata": {},
   "source": [
    "##### Fitting with polynomial order 40 using sklearn"
   ]
  },
  {
   "cell_type": "code",
   "execution_count": 43,
   "metadata": {},
   "outputs": [
    {
     "data": {
      "text/plain": [
       "LinearRegression()"
      ]
     },
     "execution_count": 43,
     "metadata": {},
     "output_type": "execute_result"
    }
   ],
   "source": [
    "import operator  \n",
    "from sklearn.preprocessing import PolynomialFeatures\n",
    "\n",
    "# To convert the original features into their higher order terms \n",
    "x = x.reshape(-1,1)\n",
    "polynomial_features= PolynomialFeatures(degree=40)\n",
    "x_poly = polynomial_features.fit_transform(x)\n",
    "\n",
    "# Fit the polynomial model with degree 40\n",
    "model = LinearRegression()\n",
    "model.fit(x_poly, y)"
   ]
  },
  {
   "cell_type": "code",
   "execution_count": 44,
   "metadata": {},
   "outputs": [
    {
     "data": {
      "text/plain": [
       "array([ 1.15292548e-26,  4.88777058e-25,  3.85945961e-24,  3.54435807e-25,\n",
       "       -4.08928460e-25,  1.65475277e-25,  8.57366583e-25,  1.08844480e-24,\n",
       "        7.92905187e-25, -5.93122928e-24,  9.49131214e-24, -2.29010482e-23,\n",
       "        4.24999279e-24,  1.10235548e-23,  7.10928913e-24,  3.65610125e-24,\n",
       "       -8.35446452e-25,  1.73072959e-34,  9.13323554e-34,  4.55545820e-33,\n",
       "        2.36155789e-32,  1.16598682e-31,  5.90240318e-31,  2.85966493e-30,\n",
       "        1.40245942e-29,  6.59030802e-29,  3.09434467e-28,  1.38700206e-27,\n",
       "        6.11562612e-27,  2.54621085e-26,  1.01825258e-25,  3.74879402e-25,\n",
       "        1.26240557e-24,  3.66433533e-24,  8.26556952e-24,  1.19088838e-23,\n",
       "       -9.47979847e-24,  2.50985511e-24, -3.17860822e-25,  1.97256739e-26,\n",
       "       -4.83579243e-28])"
      ]
     },
     "execution_count": 44,
     "metadata": {},
     "output_type": "execute_result"
    }
   ],
   "source": [
    "parameters = model.coef_\n",
    "parameters"
   ]
  },
  {
   "cell_type": "markdown",
   "metadata": {},
   "source": [
    "##### Predict the output for training input values using the model"
   ]
  },
  {
   "cell_type": "code",
   "execution_count": 45,
   "metadata": {},
   "outputs": [],
   "source": [
    "y_poly_40_pred = model.predict(x_poly)\n",
    "y_poly_40_pred_temp = y_poly_40_pred"
   ]
  },
  {
   "cell_type": "markdown",
   "metadata": {},
   "source": [
    "##### Visualizting the prediction performance"
   ]
  },
  {
   "cell_type": "code",
   "execution_count": 46,
   "metadata": {},
   "outputs": [
    {
     "data": {
      "image/png": "[encoded data removed]",
      "text/plain": [
       "<Figure size 432x288 with 1 Axes>"
      ]
     },
     "metadata": {
      "needs_background": "light"
     },
     "output_type": "display_data"
    }
   ],
   "source": [
    "# Plotting polynomial degree 3 model\n",
    "plt.scatter(x, y, s=10) \n",
    "\n",
    "# sort the values of x before plotting for polynomial line\n",
    "sort_axis = operator.itemgetter(0)\n",
    "sorted_zip = sorted(zip(x,y_poly_40_pred), key=sort_axis)\n",
    "mod_x40, y_poly_40_pred = zip(*sorted_zip)\n",
    "plt.plot(mod_x40, y_poly_40_pred, color='y',label=\"Polynomial-40\")\n",
    "\n",
    "plt.xlabel(\"X\")\n",
    "plt.ylabel(\"Y\")\n",
    "plt.legend()\n",
    "plt.show()"
   ]
  },
  {
   "cell_type": "code",
   "execution_count": 47,
   "metadata": {},
   "outputs": [
    {
     "data": {
      "image/png": "[encoded data removed]",
      "text/plain": [
       "<Figure size 432x288 with 1 Axes>"
      ]
     },
     "metadata": {
      "needs_background": "light"
     },
     "output_type": "display_data"
    }
   ],
   "source": [
    "# Plotting linear, polynomial degree 2, and degree 3 models\n",
    "plt.scatter(x, y, s=10)\n",
    "plt.plot(x, y_pred, color='r',label=\"Linear\")\n",
    "\n",
    "plt.plot(mod_x2, y_poly_2_pred, \"g--\",label=\"Polynomial-2\")\n",
    "plt.plot(mod_x3, y_poly_3_pred, \"m:\",label=\"Polynomial-3\")\n",
    "plt.plot(mod_x20, y_poly_20_pred, \"k-\",label=\"Polynomial-20\")\n",
    "plt.plot(mod_x40, y_poly_40_pred, color='y',label=\"Polynomial-40\")\n",
    "\n",
    "plt.xlabel(\"X\")\n",
    "plt.ylabel(\"Y\")\n",
    "plt.legend()\n",
    "plt.show()"
   ]
  },
  {
   "cell_type": "markdown",
   "metadata": {},
   "source": [
    "##### Calculating SSE"
   ]
  },
  {
   "cell_type": "code",
   "execution_count": 48,
   "metadata": {},
   "outputs": [
    {
     "name": "stdout",
     "output_type": "stream",
     "text": [
      "Sum of Squared Error (SSE) for Polynomial degree 3 model: 13431.68\n"
     ]
    }
   ],
   "source": [
    "# SSE\n",
    "sum = 0   \n",
    "n = len(x)  \n",
    "for i in range (0,n):   \n",
    "  diff = y[i] - y_poly_40_pred_temp[i]   \n",
    "  squ_diff = diff**2   \n",
    "  sum = sum + squ_diff   \n",
    "SSE_Poly_40 = round(sum,2)\n",
    "print(\"Sum of Squared Error (SSE) for Polynomial degree 3 model:\",SSE_Poly_40)"
   ]
  },
  {
   "cell_type": "markdown",
   "metadata": {},
   "source": [
    "##### Calculating R_2"
   ]
  },
  {
   "cell_type": "code",
   "execution_count": 49,
   "metadata": {},
   "outputs": [
    {
     "name": "stdout",
     "output_type": "stream",
     "text": [
      "R-Squred value for Linear model : 91.0 %\n"
     ]
    }
   ],
   "source": [
    "# Calculating R-Squred value (goodness of model) using SSE\n",
    "from sklearn.metrics import r2_score\n",
    "out = r2_score(y, y_poly_40_pred_temp)\n",
    "RS_Poly_40 = round(out,2)*100\n",
    "print(\"R-Squred value for Linear model :\",RS_Poly_40,\"%\")  "
   ]
  },
  {
   "cell_type": "markdown",
   "metadata": {},
   "source": [
    "### Overall performance"
   ]
  },
  {
   "cell_type": "code",
   "execution_count": 50,
   "metadata": {},
   "outputs": [
    {
     "name": "stdout",
     "output_type": "stream",
     "text": [
      "Model   \t SSE              RS \n",
      "======================================\n",
      "Linear   \t 50092.13 \t 65.0\n",
      "Poly_2   \t 37989.36 \t 74.0\n",
      "Poly_3   \t 335.37 \t 100.0\n",
      "Poly_20  \t 1412.95 \t 99.0\n",
      "Poly_40  \t 13431.68 \t 91.0\n"
     ]
    }
   ],
   "source": [
    "print(\"Model   \\t SSE              RS \")\n",
    "print(\"======================================\")\n",
    "print(\"Linear   \\t\",SSE_Linear ,\"\\t\", RS_Linear )\n",
    "print(\"Poly_2   \\t\",SSE_Poly_2,\"\\t\", RS_Poly_2)\n",
    "print(\"Poly_3   \\t\",SSE_Poly_3,\"\\t\", RS_Poly_3)\n",
    "print(\"Poly_20  \\t\",SSE_Poly_20,\"\\t\", RS_Poly_20)\n",
    "print(\"Poly_40  \\t\",SSE_Poly_40,\"\\t\", RS_Poly_40)"
   ]
  }
 ],
 "metadata": {
  "kernelspec": {
   "display_name": "Python 3",
   "language": "python",
   "name": "python3"
  },
  "language_info": {
   "codemirror_mode": {
    "name": "ipython",
    "version": 3
   },
   "file_extension": ".py",
   "mimetype": "text/x-python",
   "name": "python",
   "nbconvert_exporter": "python",
   "pygments_lexer": "ipython3",
   "version": "3.8.5"
  }
 },
 "nbformat": 4,
 "nbformat_minor": 4
}
