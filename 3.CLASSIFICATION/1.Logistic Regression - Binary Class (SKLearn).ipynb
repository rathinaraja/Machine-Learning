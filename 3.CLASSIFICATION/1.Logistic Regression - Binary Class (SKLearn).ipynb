{
 "cells": [
  {
   "cell_type": "markdown",
   "metadata": {},
   "source": [
    "<div align=\"center\">\n",
    "  <b> <font size=\"6\">Binary Classification using Logistic Regression</font> </b>\n",
    "</div>"
   ]
  },
  {
   "cell_type": "markdown",
   "metadata": {},
   "source": [
    "We will predict whether a person will buy the insurance or not. It is a binary classification problem as there are only two possible outcomes (will buy insurance or not). "
   ]
  },
  {
   "cell_type": "code",
   "execution_count": 227,
   "metadata": {},
   "outputs": [],
   "source": [
    "# Import necessary package\n",
    "import pandas as pd\n",
    "import numpy as np\n",
    "import matplotlib.pyplot as plt \n",
    "import seaborn as sns"
   ]
  },
  {
   "cell_type": "markdown",
   "metadata": {},
   "source": [
    "### Step 1: Load the dataset"
   ]
  },
  {
   "cell_type": "code",
   "execution_count": 228,
   "metadata": {},
   "outputs": [],
   "source": [
    "# Load the dataset into pandas dataframe\n",
    "df = pd.read_csv(\"E:\\\\MY LECTURES\\\\8.2021-09-03 DATA SCIENCE (KNU)\\\\3.Programs\\\\dataset\\\\insurance_data.csv\")     \n",
    "# Change this location based on the location of dataset in your machine"
   ]
  },
  {
   "cell_type": "code",
   "execution_count": 229,
   "metadata": {},
   "outputs": [
    {
     "data": {
      "text/html": [
       "<div>\n",
       "<style scoped>\n",
       "    .dataframe tbody tr th:only-of-type {\n",
       "        vertical-align: middle;\n",
       "    }\n",
       "\n",
       "    .dataframe tbody tr th {\n",
       "        vertical-align: top;\n",
       "    }\n",
       "\n",
       "    .dataframe thead th {\n",
       "        text-align: right;\n",
       "    }\n",
       "</style>\n",
       "<table border=\"1\" class=\"dataframe\">\n",
       "  <thead>\n",
       "    <tr style=\"text-align: right;\">\n",
       "      <th></th>\n",
       "      <th>age</th>\n",
       "      <th>bought_insurance</th>\n",
       "    </tr>\n",
       "  </thead>\n",
       "  <tbody>\n",
       "    <tr>\n",
       "      <th>0</th>\n",
       "      <td>22</td>\n",
       "      <td>0</td>\n",
       "    </tr>\n",
       "    <tr>\n",
       "      <th>1</th>\n",
       "      <td>25</td>\n",
       "      <td>0</td>\n",
       "    </tr>\n",
       "    <tr>\n",
       "      <th>2</th>\n",
       "      <td>47</td>\n",
       "      <td>1</td>\n",
       "    </tr>\n",
       "    <tr>\n",
       "      <th>3</th>\n",
       "      <td>52</td>\n",
       "      <td>0</td>\n",
       "    </tr>\n",
       "    <tr>\n",
       "      <th>4</th>\n",
       "      <td>46</td>\n",
       "      <td>1</td>\n",
       "    </tr>\n",
       "    <tr>\n",
       "      <th>5</th>\n",
       "      <td>56</td>\n",
       "      <td>1</td>\n",
       "    </tr>\n",
       "    <tr>\n",
       "      <th>6</th>\n",
       "      <td>55</td>\n",
       "      <td>0</td>\n",
       "    </tr>\n",
       "    <tr>\n",
       "      <th>7</th>\n",
       "      <td>60</td>\n",
       "      <td>1</td>\n",
       "    </tr>\n",
       "    <tr>\n",
       "      <th>8</th>\n",
       "      <td>62</td>\n",
       "      <td>1</td>\n",
       "    </tr>\n",
       "    <tr>\n",
       "      <th>9</th>\n",
       "      <td>61</td>\n",
       "      <td>1</td>\n",
       "    </tr>\n",
       "    <tr>\n",
       "      <th>10</th>\n",
       "      <td>18</td>\n",
       "      <td>0</td>\n",
       "    </tr>\n",
       "    <tr>\n",
       "      <th>11</th>\n",
       "      <td>28</td>\n",
       "      <td>0</td>\n",
       "    </tr>\n",
       "    <tr>\n",
       "      <th>12</th>\n",
       "      <td>27</td>\n",
       "      <td>0</td>\n",
       "    </tr>\n",
       "    <tr>\n",
       "      <th>13</th>\n",
       "      <td>29</td>\n",
       "      <td>0</td>\n",
       "    </tr>\n",
       "    <tr>\n",
       "      <th>14</th>\n",
       "      <td>49</td>\n",
       "      <td>1</td>\n",
       "    </tr>\n",
       "    <tr>\n",
       "      <th>15</th>\n",
       "      <td>55</td>\n",
       "      <td>1</td>\n",
       "    </tr>\n",
       "    <tr>\n",
       "      <th>16</th>\n",
       "      <td>25</td>\n",
       "      <td>1</td>\n",
       "    </tr>\n",
       "    <tr>\n",
       "      <th>17</th>\n",
       "      <td>58</td>\n",
       "      <td>1</td>\n",
       "    </tr>\n",
       "    <tr>\n",
       "      <th>18</th>\n",
       "      <td>19</td>\n",
       "      <td>0</td>\n",
       "    </tr>\n",
       "    <tr>\n",
       "      <th>19</th>\n",
       "      <td>18</td>\n",
       "      <td>0</td>\n",
       "    </tr>\n",
       "    <tr>\n",
       "      <th>20</th>\n",
       "      <td>21</td>\n",
       "      <td>0</td>\n",
       "    </tr>\n",
       "    <tr>\n",
       "      <th>21</th>\n",
       "      <td>26</td>\n",
       "      <td>0</td>\n",
       "    </tr>\n",
       "    <tr>\n",
       "      <th>22</th>\n",
       "      <td>40</td>\n",
       "      <td>1</td>\n",
       "    </tr>\n",
       "    <tr>\n",
       "      <th>23</th>\n",
       "      <td>45</td>\n",
       "      <td>1</td>\n",
       "    </tr>\n",
       "    <tr>\n",
       "      <th>24</th>\n",
       "      <td>50</td>\n",
       "      <td>1</td>\n",
       "    </tr>\n",
       "    <tr>\n",
       "      <th>25</th>\n",
       "      <td>54</td>\n",
       "      <td>1</td>\n",
       "    </tr>\n",
       "    <tr>\n",
       "      <th>26</th>\n",
       "      <td>23</td>\n",
       "      <td>0</td>\n",
       "    </tr>\n",
       "  </tbody>\n",
       "</table>\n",
       "</div>"
      ],
      "text/plain": [
       "    age  bought_insurance\n",
       "0    22                 0\n",
       "1    25                 0\n",
       "2    47                 1\n",
       "3    52                 0\n",
       "4    46                 1\n",
       "5    56                 1\n",
       "6    55                 0\n",
       "7    60                 1\n",
       "8    62                 1\n",
       "9    61                 1\n",
       "10   18                 0\n",
       "11   28                 0\n",
       "12   27                 0\n",
       "13   29                 0\n",
       "14   49                 1\n",
       "15   55                 1\n",
       "16   25                 1\n",
       "17   58                 1\n",
       "18   19                 0\n",
       "19   18                 0\n",
       "20   21                 0\n",
       "21   26                 0\n",
       "22   40                 1\n",
       "23   45                 1\n",
       "24   50                 1\n",
       "25   54                 1\n",
       "26   23                 0"
      ]
     },
     "execution_count": 229,
     "metadata": {},
     "output_type": "execute_result"
    }
   ],
   "source": [
    "df"
   ]
  },
  {
   "cell_type": "code",
   "execution_count": 230,
   "metadata": {},
   "outputs": [
    {
     "data": {
      "text/plain": [
       "(27, 2)"
      ]
     },
     "execution_count": 230,
     "metadata": {},
     "output_type": "execute_result"
    }
   ],
   "source": [
    "df.shape"
   ]
  },
  {
   "cell_type": "markdown",
   "metadata": {},
   "source": [
    "### Step 2: Apply EDA"
   ]
  },
  {
   "cell_type": "markdown",
   "metadata": {},
   "source": [
    "##### How  many did buy insurance?"
   ]
  },
  {
   "cell_type": "code",
   "execution_count": 231,
   "metadata": {},
   "outputs": [
    {
     "data": {
      "text/html": [
       "<div>\n",
       "<style scoped>\n",
       "    .dataframe tbody tr th:only-of-type {\n",
       "        vertical-align: middle;\n",
       "    }\n",
       "\n",
       "    .dataframe tbody tr th {\n",
       "        vertical-align: top;\n",
       "    }\n",
       "\n",
       "    .dataframe thead th {\n",
       "        text-align: right;\n",
       "    }\n",
       "</style>\n",
       "<table border=\"1\" class=\"dataframe\">\n",
       "  <thead>\n",
       "    <tr style=\"text-align: right;\">\n",
       "      <th></th>\n",
       "      <th>age</th>\n",
       "      <th>bought_insurance</th>\n",
       "    </tr>\n",
       "  </thead>\n",
       "  <tbody>\n",
       "    <tr>\n",
       "      <th>2</th>\n",
       "      <td>47</td>\n",
       "      <td>1</td>\n",
       "    </tr>\n",
       "    <tr>\n",
       "      <th>4</th>\n",
       "      <td>46</td>\n",
       "      <td>1</td>\n",
       "    </tr>\n",
       "    <tr>\n",
       "      <th>5</th>\n",
       "      <td>56</td>\n",
       "      <td>1</td>\n",
       "    </tr>\n",
       "    <tr>\n",
       "      <th>7</th>\n",
       "      <td>60</td>\n",
       "      <td>1</td>\n",
       "    </tr>\n",
       "    <tr>\n",
       "      <th>8</th>\n",
       "      <td>62</td>\n",
       "      <td>1</td>\n",
       "    </tr>\n",
       "    <tr>\n",
       "      <th>9</th>\n",
       "      <td>61</td>\n",
       "      <td>1</td>\n",
       "    </tr>\n",
       "    <tr>\n",
       "      <th>14</th>\n",
       "      <td>49</td>\n",
       "      <td>1</td>\n",
       "    </tr>\n",
       "    <tr>\n",
       "      <th>15</th>\n",
       "      <td>55</td>\n",
       "      <td>1</td>\n",
       "    </tr>\n",
       "    <tr>\n",
       "      <th>16</th>\n",
       "      <td>25</td>\n",
       "      <td>1</td>\n",
       "    </tr>\n",
       "    <tr>\n",
       "      <th>17</th>\n",
       "      <td>58</td>\n",
       "      <td>1</td>\n",
       "    </tr>\n",
       "    <tr>\n",
       "      <th>22</th>\n",
       "      <td>40</td>\n",
       "      <td>1</td>\n",
       "    </tr>\n",
       "    <tr>\n",
       "      <th>23</th>\n",
       "      <td>45</td>\n",
       "      <td>1</td>\n",
       "    </tr>\n",
       "    <tr>\n",
       "      <th>24</th>\n",
       "      <td>50</td>\n",
       "      <td>1</td>\n",
       "    </tr>\n",
       "    <tr>\n",
       "      <th>25</th>\n",
       "      <td>54</td>\n",
       "      <td>1</td>\n",
       "    </tr>\n",
       "  </tbody>\n",
       "</table>\n",
       "</div>"
      ],
      "text/plain": [
       "    age  bought_insurance\n",
       "2    47                 1\n",
       "4    46                 1\n",
       "5    56                 1\n",
       "7    60                 1\n",
       "8    62                 1\n",
       "9    61                 1\n",
       "14   49                 1\n",
       "15   55                 1\n",
       "16   25                 1\n",
       "17   58                 1\n",
       "22   40                 1\n",
       "23   45                 1\n",
       "24   50                 1\n",
       "25   54                 1"
      ]
     },
     "execution_count": 231,
     "metadata": {},
     "output_type": "execute_result"
    }
   ],
   "source": [
    "bought = df[df.bought_insurance==1]\n",
    "bought"
   ]
  },
  {
   "cell_type": "markdown",
   "metadata": {},
   "source": [
    "##### How  many did not buy insurance?"
   ]
  },
  {
   "cell_type": "code",
   "execution_count": 232,
   "metadata": {},
   "outputs": [
    {
     "data": {
      "text/html": [
       "<div>\n",
       "<style scoped>\n",
       "    .dataframe tbody tr th:only-of-type {\n",
       "        vertical-align: middle;\n",
       "    }\n",
       "\n",
       "    .dataframe tbody tr th {\n",
       "        vertical-align: top;\n",
       "    }\n",
       "\n",
       "    .dataframe thead th {\n",
       "        text-align: right;\n",
       "    }\n",
       "</style>\n",
       "<table border=\"1\" class=\"dataframe\">\n",
       "  <thead>\n",
       "    <tr style=\"text-align: right;\">\n",
       "      <th></th>\n",
       "      <th>age</th>\n",
       "      <th>bought_insurance</th>\n",
       "    </tr>\n",
       "  </thead>\n",
       "  <tbody>\n",
       "    <tr>\n",
       "      <th>0</th>\n",
       "      <td>22</td>\n",
       "      <td>0</td>\n",
       "    </tr>\n",
       "    <tr>\n",
       "      <th>1</th>\n",
       "      <td>25</td>\n",
       "      <td>0</td>\n",
       "    </tr>\n",
       "    <tr>\n",
       "      <th>3</th>\n",
       "      <td>52</td>\n",
       "      <td>0</td>\n",
       "    </tr>\n",
       "    <tr>\n",
       "      <th>6</th>\n",
       "      <td>55</td>\n",
       "      <td>0</td>\n",
       "    </tr>\n",
       "    <tr>\n",
       "      <th>10</th>\n",
       "      <td>18</td>\n",
       "      <td>0</td>\n",
       "    </tr>\n",
       "    <tr>\n",
       "      <th>11</th>\n",
       "      <td>28</td>\n",
       "      <td>0</td>\n",
       "    </tr>\n",
       "    <tr>\n",
       "      <th>12</th>\n",
       "      <td>27</td>\n",
       "      <td>0</td>\n",
       "    </tr>\n",
       "    <tr>\n",
       "      <th>13</th>\n",
       "      <td>29</td>\n",
       "      <td>0</td>\n",
       "    </tr>\n",
       "    <tr>\n",
       "      <th>18</th>\n",
       "      <td>19</td>\n",
       "      <td>0</td>\n",
       "    </tr>\n",
       "    <tr>\n",
       "      <th>19</th>\n",
       "      <td>18</td>\n",
       "      <td>0</td>\n",
       "    </tr>\n",
       "    <tr>\n",
       "      <th>20</th>\n",
       "      <td>21</td>\n",
       "      <td>0</td>\n",
       "    </tr>\n",
       "    <tr>\n",
       "      <th>21</th>\n",
       "      <td>26</td>\n",
       "      <td>0</td>\n",
       "    </tr>\n",
       "    <tr>\n",
       "      <th>26</th>\n",
       "      <td>23</td>\n",
       "      <td>0</td>\n",
       "    </tr>\n",
       "  </tbody>\n",
       "</table>\n",
       "</div>"
      ],
      "text/plain": [
       "    age  bought_insurance\n",
       "0    22                 0\n",
       "1    25                 0\n",
       "3    52                 0\n",
       "6    55                 0\n",
       "10   18                 0\n",
       "11   28                 0\n",
       "12   27                 0\n",
       "13   29                 0\n",
       "18   19                 0\n",
       "19   18                 0\n",
       "20   21                 0\n",
       "21   26                 0\n",
       "26   23                 0"
      ]
     },
     "execution_count": 232,
     "metadata": {},
     "output_type": "execute_result"
    }
   ],
   "source": [
    "no_buy = df[df.bought_insurance==0]\n",
    "no_buy"
   ]
  },
  {
   "cell_type": "markdown",
   "metadata": {},
   "source": [
    "##### Average age for people who bought insurance and who did not"
   ]
  },
  {
   "cell_type": "code",
   "execution_count": 233,
   "metadata": {},
   "outputs": [
    {
     "data": {
      "text/html": [
       "<div>\n",
       "<style scoped>\n",
       "    .dataframe tbody tr th:only-of-type {\n",
       "        vertical-align: middle;\n",
       "    }\n",
       "\n",
       "    .dataframe tbody tr th {\n",
       "        vertical-align: top;\n",
       "    }\n",
       "\n",
       "    .dataframe thead th {\n",
       "        text-align: right;\n",
       "    }\n",
       "</style>\n",
       "<table border=\"1\" class=\"dataframe\">\n",
       "  <thead>\n",
       "    <tr style=\"text-align: right;\">\n",
       "      <th></th>\n",
       "      <th>age</th>\n",
       "    </tr>\n",
       "    <tr>\n",
       "      <th>bought_insurance</th>\n",
       "      <th></th>\n",
       "    </tr>\n",
       "  </thead>\n",
       "  <tbody>\n",
       "    <tr>\n",
       "      <th>0</th>\n",
       "      <td>27.923077</td>\n",
       "    </tr>\n",
       "    <tr>\n",
       "      <th>1</th>\n",
       "      <td>50.571429</td>\n",
       "    </tr>\n",
       "  </tbody>\n",
       "</table>\n",
       "</div>"
      ],
      "text/plain": [
       "                        age\n",
       "bought_insurance           \n",
       "0                 27.923077\n",
       "1                 50.571429"
      ]
     },
     "execution_count": 233,
     "metadata": {},
     "output_type": "execute_result"
    }
   ],
   "source": [
    "df.groupby('bought_insurance').mean()"
   ]
  },
  {
   "cell_type": "markdown",
   "metadata": {},
   "source": [
    "##### Impact of age on insurance buy"
   ]
  },
  {
   "cell_type": "code",
   "execution_count": 234,
   "metadata": {},
   "outputs": [
    {
     "data": {
      "text/plain": [
       "<AxesSubplot:xlabel='age'>"
      ]
     },
     "execution_count": 234,
     "metadata": {},
     "output_type": "execute_result"
    },
    {
     "data": {
      "image/png": "[encoded data removed]",
      "text/plain": [
       "<Figure size 432x288 with 1 Axes>"
      ]
     },
     "metadata": {},
     "output_type": "display_data"
    }
   ],
   "source": [
    "pd.crosstab(df.age,df.bought_insurance).plot(kind='bar')"
   ]
  },
  {
   "cell_type": "markdown",
   "metadata": {},
   "source": [
    "##### Scatter plot"
   ]
  },
  {
   "cell_type": "code",
   "execution_count": 235,
   "metadata": {},
   "outputs": [
    {
     "data": {
      "image/png": "[encoded data removed]",
      "text/plain": [
       "<Figure size 1224x504 with 1 Axes>"
      ]
     },
     "metadata": {},
     "output_type": "display_data"
    }
   ],
   "source": [
    "sns.set_style(style='white') \n",
    "fig = plt.figure(figsize=(17,7)) \n",
    "plt.scatter(df[\"age\"],df[\"bought_insurance\"],color=\"brown\")\n",
    "plt.grid(b=None)\n",
    "plt.xlabel(\"Age\")\n",
    "plt.ylabel(\"Probaility of buying insurance\")\n",
    "plt.title(\"Age vs Buying insurance\")\n",
    "plt.show() "
   ]
  },
  {
   "cell_type": "markdown",
   "metadata": {},
   "source": [
    "### Step 3. Pre-process and extract the features"
   ]
  },
  {
   "cell_type": "code",
   "execution_count": 236,
   "metadata": {},
   "outputs": [],
   "source": [
    "X = df.iloc[:,0].values.reshape((-1, 1))    # age\n",
    "Y = df.iloc[:,1].values                     # bought_insurance"
   ]
  },
  {
   "cell_type": "markdown",
   "metadata": {},
   "source": [
    "### Step 4. Split the data for training and testing"
   ]
  },
  {
   "cell_type": "code",
   "execution_count": 237,
   "metadata": {},
   "outputs": [],
   "source": [
    "# Splitting dataset into training and testing set\n",
    "from sklearn.model_selection import train_test_split\n",
    "x_train, x_test, y_train, y_test = train_test_split(X, Y, test_size = 0.2, random_state = 0)\n",
    "#x_train, x_test, y_train, y_test = train_test_split(df[[\"age\"]],df.bought_insurance, test_size = 0.2, random_state = 0)"
   ]
  },
  {
   "cell_type": "markdown",
   "metadata": {},
   "source": [
    "<div align=\"center\">\n",
    "  <b> <font size=\"5\">Linear Regression</font> </b>\n",
    "</div>"
   ]
  },
  {
   "cell_type": "markdown",
   "metadata": {},
   "source": [
    "### Step 5. Fitting the model"
   ]
  },
  {
   "cell_type": "markdown",
   "metadata": {},
   "source": [
    "You may try training and testing separately. To understand the concept, I just bypass it."
   ]
  },
  {
   "cell_type": "code",
   "execution_count": 238,
   "metadata": {},
   "outputs": [],
   "source": [
    "from sklearn.linear_model import LinearRegression\n",
    "linear_model = LinearRegression()\n",
    "linear_model.fit(X, Y)\n",
    "y_pred = linear_model.predict(X)"
   ]
  },
  {
   "cell_type": "markdown",
   "metadata": {},
   "source": [
    "##### Visualizing the model"
   ]
  },
  {
   "cell_type": "code",
   "execution_count": 239,
   "metadata": {},
   "outputs": [
    {
     "data": {
      "image/png": "[encoded data removed]",
      "text/plain": [
       "<Figure size 1584x504 with 1 Axes>"
      ]
     },
     "metadata": {},
     "output_type": "display_data"
    }
   ],
   "source": [
    "sns.set_style(style='white') \n",
    "fig = plt.figure(figsize=(22,7)) \n",
    "plt.scatter(X,Y,color=\"brown\")\n",
    "plt.grid(b=None) \n",
    "plt.plot(X,y_pred,\"g\",label=\"Buy insurance\")\n",
    "plt.xlabel(\"Age\")\n",
    "plt.ylabel(\"Buy insurance\")\n",
    "plt.title(\"Age vs Insurance buy\")\n",
    "plt.legend()\n",
    "plt.show()"
   ]
  },
  {
   "cell_type": "markdown",
   "metadata": {},
   "source": [
    "##### Sum of Squared Error (SSE)"
   ]
  },
  {
   "cell_type": "code",
   "execution_count": 240,
   "metadata": {},
   "outputs": [
    {
     "name": "stdout",
     "output_type": "stream",
     "text": [
      "Sum of Squared Error (SSE) : 3.12\n"
     ]
    }
   ],
   "source": [
    "sum = 0   \n",
    "n = len(X)  \n",
    "for i in range (0,n):   \n",
    "  diff = Y[i] - y_pred[i]   \n",
    "  squ_diff = diff**2   \n",
    "  sum = sum + squ_diff   \n",
    "SSE = np.round(sum,2)\n",
    "print(\"Sum of Squared Error (SSE) :\",SSE)"
   ]
  },
  {
   "cell_type": "markdown",
   "metadata": {},
   "source": [
    "##### Calculating R-Squred value (goodness of model) using SSE"
   ]
  },
  {
   "cell_type": "code",
   "execution_count": 241,
   "metadata": {},
   "outputs": [
    {
     "name": "stdout",
     "output_type": "stream",
     "text": [
      "R-Squred value (goodness of model) for training set : 54.0 %\n"
     ]
    }
   ],
   "source": [
    "from sklearn.metrics import r2_score\n",
    "out = r2_score(Y,y_pred)\n",
    "RS = np.round(out,2)*100\n",
    "print(\"R-Squred value (goodness of model) for training set :\",RS,\"%\") "
   ]
  },
  {
   "cell_type": "markdown",
   "metadata": {},
   "source": [
    "##### The possible solution with linear regression"
   ]
  },
  {
   "cell_type": "markdown",
   "metadata": {},
   "source": [
    "Find the center of regression and impose the following condition\n",
    "<ul>\n",
    "  <li>predicted value for an input greater than 0.5 will buy insurance.</li>\n",
    "  <li>predicted value for an input less than 0.5 will not buy insurance.</li> \n",
    "</ul> "
   ]
  },
  {
   "cell_type": "code",
   "execution_count": 242,
   "metadata": {},
   "outputs": [],
   "source": [
    "# Finding the center\n",
    "X_center = np.mean(X)\n",
    "Y_center = np.mean(Y)"
   ]
  },
  {
   "cell_type": "code",
   "execution_count": 243,
   "metadata": {},
   "outputs": [],
   "source": [
    "X_axis = np.full(len(X),np.mean(Y_center)).reshape(-1,1)  "
   ]
  },
  {
   "cell_type": "code",
   "execution_count": 244,
   "metadata": {},
   "outputs": [
    {
     "data": {
      "image/png": "[encoded data removed]",
      "text/plain": [
       "<Figure size 1584x504 with 1 Axes>"
      ]
     },
     "metadata": {},
     "output_type": "display_data"
    }
   ],
   "source": [
    "sns.set_style(style='white') \n",
    "fig = plt.figure(figsize=(22,7)) \n",
    "plt.scatter(X,Y,color=\"brown\")\n",
    "plt.grid(b=None) \n",
    "plt.plot(X,y_pred,\"g\",label=\"Buy insurance\")\n",
    "plt.plot(X,X_axis,\"r\",label=\"Y-Mid\")  \n",
    "plt.xlabel(\"Age\")\n",
    "plt.ylabel(\"Buy insurance\")\n",
    "plt.title(\"Age vs Insurance buy\")\n",
    "plt.legend()\n",
    "plt.show()"
   ]
  },
  {
   "cell_type": "markdown",
   "metadata": {},
   "source": [
    "<div align=\"center\">\n",
    "  <b> <font size=\"5\">Logistic (Sigmoid) Regression</font> </b>\n",
    "</div>"
   ]
  },
  {
   "cell_type": "markdown",
   "metadata": {},
   "source": [
    "##### Which model (function) is suitable for such data that contains only two categories (0 and 1)?"
   ]
  },
  {
   "cell_type": "markdown",
   "metadata": {},
   "source": [
    "\\begin{equation}\n",
    "Logistic (sigmoid)  function = \\frac{1}{1+e^{-x}}  or  \\frac{e^{x}}{1+e^{x}} \n",
    "\\end{equation} "
   ]
  },
  {
   "cell_type": "code",
   "execution_count": 245,
   "metadata": {},
   "outputs": [
    {
     "data": {
      "image/png": "[encoded data removed]",
      "text/plain": [
       "<Figure size 1584x504 with 1 Axes>"
      ]
     },
     "metadata": {},
     "output_type": "display_data"
    }
   ],
   "source": [
    "sns.set_style(style='white') \n",
    "\n",
    "fig = plt.figure(figsize=(22,7)) \n",
    "plt.scatter(X,Y,color=\"brown\")\n",
    "plt.grid(b=None) \n",
    "\n",
    "numbers = np.linspace(-9,9,100) \n",
    "# logistic (sigmoid) function\n",
    "logit = 1/(1+np.e**-numbers) \n",
    "numbers = numbers * 3\n",
    "numbers = numbers + 38\n",
    "\n",
    "plt.plot(X,y_pred,\"g\",label=\"Linear Regression\")\n",
    "plt.plot(numbers,logit,\"m\",label=\"Logistic Regression\")\n",
    "plt.plot(X,X_axis,\"r\",label=\"Y-Mid\")\n",
    "\n",
    "plt.xlabel(\"Age\")\n",
    "plt.ylabel(\"Buy insurance\")\n",
    "plt.title(\"Age vs Insurance buy\")\n",
    "\n",
    "axes = plt.gca()\n",
    "axes.xaxis.label.set_size(20)\n",
    "axes.yaxis.label.set_size(20)\n",
    "plt.legend(prop={\"size\":16})\n",
    "\n",
    "plt.show()"
   ]
  },
  {
   "cell_type": "markdown",
   "metadata": {},
   "source": [
    "### Step 5. Training the model"
   ]
  },
  {
   "cell_type": "markdown",
   "metadata": {},
   "source": [
    "##### Fitting the model"
   ]
  },
  {
   "cell_type": "code",
   "execution_count": 246,
   "metadata": {},
   "outputs": [
    {
     "data": {
      "text/plain": [
       "LogisticRegression()"
      ]
     },
     "execution_count": 246,
     "metadata": {},
     "output_type": "execute_result"
    }
   ],
   "source": [
    "from sklearn.linear_model import LogisticRegression\n",
    "logistic_model = LogisticRegression()\n",
    "logistic_model.fit(x_train, y_train)"
   ]
  },
  {
   "cell_type": "code",
   "execution_count": 247,
   "metadata": {},
   "outputs": [
    {
     "data": {
      "text/plain": [
       "array([[0.11216016]])"
      ]
     },
     "execution_count": 247,
     "metadata": {},
     "output_type": "execute_result"
    }
   ],
   "source": [
    "logistic_model.coef_     # slope for each feature in log(odds graph)"
   ]
  },
  {
   "cell_type": "code",
   "execution_count": 248,
   "metadata": {},
   "outputs": [
    {
     "data": {
      "text/plain": [
       "array([1, 0, 0, 0, 0, 0, 0, 0, 1, 1, 1, 1, 0, 1, 1, 0, 1, 0, 0, 1, 0],\n",
       "      dtype=int64)"
      ]
     },
     "execution_count": 248,
     "metadata": {},
     "output_type": "execute_result"
    }
   ],
   "source": [
    "y_train_pred = logistic_model.predict(x_train) \n",
    "y_train_pred"
   ]
  },
  {
   "cell_type": "markdown",
   "metadata": {},
   "source": [
    "##### Logistic regression results either 0 or 1 but what could be the calculated value before rounding?"
   ]
  },
  {
   "cell_type": "code",
   "execution_count": 249,
   "metadata": {},
   "outputs": [
    {
     "data": {
      "text/plain": [
       "array([[0.39231295, 0.60768705],\n",
       "       [0.79526555, 0.20473445],\n",
       "       [0.9302622 , 0.0697378 ],\n",
       "       [0.90501595, 0.09498405],\n",
       "       [0.85882961, 0.14117039],\n",
       "       [0.85882961, 0.14117039],\n",
       "       [0.9302622 , 0.0697378 ],\n",
       "       [0.8839032 , 0.1160968 ],\n",
       "       [0.19045729, 0.80954271],\n",
       "       [0.08751808, 0.91248192],\n",
       "       [0.17376122, 0.82623878],\n",
       "       [0.36592002, 0.63407998],\n",
       "       [0.92262534, 0.07737466],\n",
       "       [0.09689922, 0.90310078],\n",
       "       [0.10716783, 0.89283217],\n",
       "       [0.53076125, 0.46923875],\n",
       "       [0.22745791, 0.77254209],\n",
       "       [0.89492668, 0.10507332],\n",
       "       [0.84467638, 0.15532362],\n",
       "       [0.17376122, 0.82623878],\n",
       "       [0.82938609, 0.17061391]])"
      ]
     },
     "execution_count": 249,
     "metadata": {},
     "output_type": "execute_result"
    }
   ],
   "source": [
    "train_predicted_prob = logistic_model.predict_proba(x_train.reshape(-1,1))\n",
    "train_predicted_prob"
   ]
  },
  {
   "cell_type": "markdown",
   "metadata": {},
   "source": [
    "First column is 0 (will not buy), second column is 1 (will buy insurance) for each record<br>\n",
    "Look at the next cell for the input of following output"
   ]
  },
  {
   "cell_type": "code",
   "execution_count": 250,
   "metadata": {},
   "outputs": [
    {
     "name": "stdout",
     "output_type": "stream",
     "text": [
      "x_train    y_train    y_train_pred\n",
      "[45]         1             1\n",
      "[29]         0             0\n",
      "[18]         0             0\n",
      "[21]         0             0\n",
      "[25]         1             0\n",
      "[25]         0             0\n",
      "[18]         0             0\n",
      "[23]         0             0\n",
      "[54]         1             1\n",
      "[62]         1             1\n",
      "[55]         0             1\n",
      "[46]         1             1\n",
      "[19]         0             0\n",
      "[61]         1             1\n",
      "[60]         1             1\n",
      "[40]         1             0\n",
      "[52]         0             1\n",
      "[22]         0             0\n",
      "[26]         0             0\n",
      "[55]         1             1\n",
      "[27]         0             0\n"
     ]
    }
   ],
   "source": [
    "print(\"x_train    y_train    y_train_pred\")\n",
    "for i in range(0,len(x_train)):\n",
    "    print(x_train[i],\"       \",y_train[i],\"           \",y_train_pred[i])\n",
    "# 1 - bought insurance, 0 - did not buy insurance"
   ]
  },
  {
   "cell_type": "markdown",
   "metadata": {},
   "source": [
    "##### Visualizing the model"
   ]
  },
  {
   "cell_type": "code",
   "execution_count": 251,
   "metadata": {},
   "outputs": [
    {
     "data": {
      "image/png": "[encoded data removed]",
      "text/plain": [
       "<Figure size 1584x504 with 1 Axes>"
      ]
     },
     "metadata": {},
     "output_type": "display_data"
    }
   ],
   "source": [
    "sns.set_style(style='white') \n",
    "fig = plt.figure(figsize=(22,7)) \n",
    "plt.scatter(x_train,y_train,color=\"brown\")\n",
    "plt.grid(b=None)  \n",
    "\n",
    "\n",
    "numbers = np.linspace(-9,9,100) \n",
    "logit = 1/(1+np.e**-numbers) \n",
    "numbers = numbers * 3\n",
    "numbers = numbers + 38\n",
    "\n",
    "plt.plot(numbers,logit,\"g\",label=\"Logistic Regression\")\n",
    "\n",
    "plt.xlabel(\"Age\")\n",
    "plt.ylabel(\"Buy insurance\")\n",
    "plt.title(\"Age vs Insurance buy\")\n",
    "\n",
    "axes = plt.gca()\n",
    "axes.xaxis.label.set_size(20)\n",
    "axes.yaxis.label.set_size(20)\n",
    "plt.legend(prop={\"size\":16}) \n",
    "\n",
    "plt.show()"
   ]
  },
  {
   "cell_type": "markdown",
   "metadata": {},
   "source": [
    "The above graph is just an assumption. Because, we do not get any value for the parameters in logistic function, instead the problem is solved in log(odds) graph that results the value for slope and intercept."
   ]
  },
  {
   "cell_type": "markdown",
   "metadata": {},
   "source": [
    "##### Performance score for logistic regression"
   ]
  },
  {
   "cell_type": "code",
   "execution_count": 252,
   "metadata": {},
   "outputs": [
    {
     "name": "stdout",
     "output_type": "stream",
     "text": [
      "Performance score for training set : 81.0 %\n"
     ]
    }
   ],
   "source": [
    "out = logistic_model.score(x_train,y_train)\n",
    "Logistic_Train_RS = np.round(out,2)*100\n",
    "print(\"Performance score for training set :\",Logistic_Train_RS,\"%\") "
   ]
  },
  {
   "cell_type": "markdown",
   "metadata": {},
   "source": [
    "Score says the performance of logistic regression over simple probability that does not feature Age. "
   ]
  },
  {
   "cell_type": "markdown",
   "metadata": {},
   "source": [
    "##### Confusion matrix"
   ]
  },
  {
   "cell_type": "markdown",
   "metadata": {},
   "source": [
    "We are interested to know how many has been correctly and wrongly classified."
   ]
  },
  {
   "cell_type": "code",
   "execution_count": 253,
   "metadata": {},
   "outputs": [
    {
     "data": {
      "text/plain": [
       "Text(19.5, 0.5, 'Truth')"
      ]
     },
     "execution_count": 253,
     "metadata": {},
     "output_type": "execute_result"
    },
    {
     "data": {
      "image/png": "[encoded data removed]",
      "text/plain": [
       "<Figure size 360x216 with 2 Axes>"
      ]
     },
     "metadata": {},
     "output_type": "display_data"
    }
   ],
   "source": [
    "from sklearn.metrics import confusion_matrix\n",
    "cm = confusion_matrix(y_train,y_train_pred) \n",
    "\n",
    "plt.figure(figsize = (5,3))\n",
    "sns.set(font_scale=1.1)\n",
    "\n",
    "axes = plt.gca()\n",
    "axes.xaxis.label.set_size(15)\n",
    "axes.yaxis.label.set_size(15) \n",
    "\n",
    "sns.heatmap(cm, annot=True,cmap=plt.cm.Oranges, alpha=0.5)\n",
    "\n",
    "plt.xlabel('Predicted')\n",
    "plt.ylabel('Truth')"
   ]
  },
  {
   "cell_type": "markdown",
   "metadata": {},
   "source": [
    "##### Precison, Recall, F1, Accuracy"
   ]
  },
  {
   "cell_type": "code",
   "execution_count": 254,
   "metadata": {},
   "outputs": [
    {
     "name": "stdout",
     "output_type": "stream",
     "text": [
      "              precision    recall  f1-score   support\n",
      "\n",
      "           0       0.83      0.83      0.83        12\n",
      "           1       0.78      0.78      0.78         9\n",
      "\n",
      "    accuracy                           0.81        21\n",
      "   macro avg       0.81      0.81      0.81        21\n",
      "weighted avg       0.81      0.81      0.81        21\n",
      "\n"
     ]
    }
   ],
   "source": [
    "# Total report\n",
    "from sklearn import metrics\n",
    "print(metrics.classification_report(y_train,y_train_pred))"
   ]
  },
  {
   "cell_type": "code",
   "execution_count": 255,
   "metadata": {},
   "outputs": [
    {
     "name": "stdout",
     "output_type": "stream",
     "text": [
      "Accuracy score :  81.0 %\n"
     ]
    }
   ],
   "source": [
    "# Accuracy score\n",
    "temp = metrics.accuracy_score(y_train,y_train_pred)\n",
    "Logistic_Train_Accuracy = np.round(temp,2)*100\n",
    "print(\"Accuracy score : \",Logistic_Train_Accuracy,\"%\")"
   ]
  },
  {
   "cell_type": "code",
   "execution_count": 256,
   "metadata": {},
   "outputs": [
    {
     "name": "stdout",
     "output_type": "stream",
     "text": [
      "Precision score :  78.0 %\n"
     ]
    }
   ],
   "source": [
    "# Precision score\n",
    "temp = metrics.precision_score(y_train,y_train_pred)\n",
    "Logistic_Train_Precision = np.round(temp,2)*100\n",
    "print(\"Precision score : \",Logistic_Train_Precision,\"%\")"
   ]
  },
  {
   "cell_type": "code",
   "execution_count": 257,
   "metadata": {},
   "outputs": [
    {
     "name": "stdout",
     "output_type": "stream",
     "text": [
      "Recall score :  78.0 %\n"
     ]
    }
   ],
   "source": [
    "# Recall score\n",
    "temp = metrics.recall_score(y_train,y_train_pred)\n",
    "Logistic_Train_Recall = np.round(temp,2)*100\n",
    "print(\"Recall score : \",Logistic_Train_Recall,\"%\")"
   ]
  },
  {
   "cell_type": "code",
   "execution_count": 258,
   "metadata": {},
   "outputs": [
    {
     "name": "stdout",
     "output_type": "stream",
     "text": [
      "F1 score :  78.0 %\n"
     ]
    }
   ],
   "source": [
    "# F1 score\n",
    "temp = metrics.f1_score(y_train,y_train_pred)\n",
    "Logistic_Train_F1 = np.round(temp,2)*100\n",
    "print(\"F1 score : \",Logistic_Train_F1,\"%\")"
   ]
  },
  {
   "cell_type": "code",
   "execution_count": 259,
   "metadata": {},
   "outputs": [
    {
     "name": "stdout",
     "output_type": "stream",
     "text": [
      "Cohen Kappa score :  61.0 %\n"
     ]
    }
   ],
   "source": [
    "# Cohen Kappa score\n",
    "temp = metrics.cohen_kappa_score(y_train,y_train_pred)\n",
    "Logistic_Train_CK = np.round(temp,2)*100\n",
    "print(\"Cohen Kappa score : \",Logistic_Train_CK,\"%\")"
   ]
  },
  {
   "cell_type": "markdown",
   "metadata": {},
   "source": [
    "##### ROC and AUC"
   ]
  },
  {
   "cell_type": "code",
   "execution_count": 260,
   "metadata": {},
   "outputs": [
    {
     "data": {
      "image/png": "[encoded data removed]",
      "text/plain": [
       "<Figure size 432x288 with 1 Axes>"
      ]
     },
     "metadata": {},
     "output_type": "display_data"
    }
   ],
   "source": [
    "prob = train_predicted_prob[::,1]\n",
    "fpr, tpr, _ = metrics.roc_curve(y_train, prob)\n",
    "Logistic_Train_AUC = np.round(metrics.roc_auc_score(y_train, prob),2)*100\n",
    "plt.plot(fpr,tpr,label=\"ROC, auc=\"+str(Logistic_Train_AUC))\n",
    "plt.xlabel('False Positive Rate')\n",
    "plt.ylabel('True Positive Rate')\n",
    "plt.legend(loc=4)\n",
    "plt.show()"
   ]
  },
  {
   "cell_type": "markdown",
   "metadata": {},
   "source": [
    "### Step 6. Testing the model"
   ]
  },
  {
   "cell_type": "code",
   "execution_count": 261,
   "metadata": {},
   "outputs": [
    {
     "data": {
      "text/plain": [
       "array([1, 1, 1, 1, 1, 0], dtype=int64)"
      ]
     },
     "execution_count": 261,
     "metadata": {},
     "output_type": "execute_result"
    }
   ],
   "source": [
    "# Predicting values for test input set\n",
    "y_test_pred = logistic_model.predict(x_test)\n",
    "y_test_pred"
   ]
  },
  {
   "cell_type": "markdown",
   "metadata": {},
   "source": [
    "##### Logistic regression results either 0 or 1 but what could be the calculated value before rounding?"
   ]
  },
  {
   "cell_type": "markdown",
   "metadata": {},
   "source": [
    "First columns is 0 (will not buy), second column is 1 (will buy insurance) <br>\n",
    "Look at the next cell for the input of following output"
   ]
  },
  {
   "cell_type": "code",
   "execution_count": 262,
   "metadata": {},
   "outputs": [
    {
     "data": {
      "text/plain": [
       "array([[0.34030833, 0.65969167],\n",
       "       [0.26925593, 0.73074407],\n",
       "       [0.2918862 , 0.7081138 ],\n",
       "       [0.13059794, 0.86940206],\n",
       "       [0.15824269, 0.84175731],\n",
       "       [0.81292397, 0.18707603]])"
      ]
     },
     "execution_count": 262,
     "metadata": {},
     "output_type": "execute_result"
    }
   ],
   "source": [
    "test_predicted_prob = logistic_model.predict_proba(x_test.reshape(-1,1))\n",
    "test_predicted_prob"
   ]
  },
  {
   "cell_type": "code",
   "execution_count": 263,
   "metadata": {},
   "outputs": [
    {
     "name": "stdout",
     "output_type": "stream",
     "text": [
      "x_test    y_test    y_test_pred\n",
      "[47]         1             1\n",
      "[50]         1             1\n",
      "[49]         1             1\n",
      "[58]         1             1\n",
      "[56]         1             1\n",
      "[28]         0             0\n"
     ]
    }
   ],
   "source": [
    "print(\"x_test    y_test    y_test_pred\")\n",
    "for i in range(0,len(x_test)):\n",
    "    print(x_test[i],\"       \",y_test[i],\"           \",y_test_pred[i])\n",
    "# 1 - bought insurance, 0 - did not buy insurance"
   ]
  },
  {
   "cell_type": "code",
   "execution_count": 264,
   "metadata": {},
   "outputs": [
    {
     "data": {
      "image/png": "[encoded data removed]",
      "text/plain": [
       "<Figure size 1584x504 with 1 Axes>"
      ]
     },
     "metadata": {},
     "output_type": "display_data"
    }
   ],
   "source": [
    "# Plotting the predicted values\n",
    "sns.set_style(style='white') \n",
    "fig = plt.figure(figsize=(22,7)) \n",
    "plt.scatter(x_test,y_test,color=\"brown\")\n",
    "plt.grid(b=None) \n",
    "\n",
    "numbers = np.linspace(-9,9,100) \n",
    "logit = 1/(1+np.e**-numbers) \n",
    "numbers = numbers * 3\n",
    "numbers = numbers + 38\n",
    "\n",
    "plt.plot(numbers,logit,\"g\",label=\"Logistic Regression\")\n",
    "\n",
    "plt.xlabel(\"Age\")\n",
    "plt.ylabel(\"Insurance buy\")\n",
    "plt.title(\"Age vs Insurance buy\")\n",
    "\n",
    "axes = plt.gca()\n",
    "axes.xaxis.label.set_size(20)\n",
    "axes.yaxis.label.set_size(20)\n",
    "plt.legend(prop={\"size\":16})\n",
    "\n",
    "plt.show()"
   ]
  },
  {
   "cell_type": "markdown",
   "metadata": {},
   "source": [
    "The above graph is just an assumption. Because, we do not get any value for the parameters in logistic function, instead the problem is solved in log(odds) graph that results the value for slope and intercept."
   ]
  },
  {
   "cell_type": "markdown",
   "metadata": {},
   "source": [
    "##### Performance score for logistic regression"
   ]
  },
  {
   "cell_type": "code",
   "execution_count": 265,
   "metadata": {},
   "outputs": [
    {
     "name": "stdout",
     "output_type": "stream",
     "text": [
      "Performance score for training set : 100.0 %\n"
     ]
    }
   ],
   "source": [
    "out = logistic_model.score(x_test,y_test)\n",
    "Logistic_Test_RS = np.round(out,2)*100\n",
    "print(\"Performance score for training set :\",Logistic_Test_RS,\"%\") "
   ]
  },
  {
   "cell_type": "markdown",
   "metadata": {},
   "source": [
    "##### Confusion matrix"
   ]
  },
  {
   "cell_type": "markdown",
   "metadata": {},
   "source": [
    "R2 score says the performance of logistic regression over simple probability that does not feature Age. <br>\n",
    "We are interested to know how many has been correctly and wrongly classified."
   ]
  },
  {
   "cell_type": "code",
   "execution_count": 266,
   "metadata": {},
   "outputs": [
    {
     "data": {
      "text/plain": [
       "Text(19.5, 0.5, 'Truth')"
      ]
     },
     "execution_count": 266,
     "metadata": {},
     "output_type": "execute_result"
    },
    {
     "data": {
      "image/png": "[encoded data removed]",
      "text/plain": [
       "<Figure size 360x216 with 2 Axes>"
      ]
     },
     "metadata": {},
     "output_type": "display_data"
    }
   ],
   "source": [
    "from sklearn.metrics import confusion_matrix\n",
    "cm = confusion_matrix(y_test,y_test_pred)\n",
    "\n",
    "plt.figure(figsize = (5,3))\n",
    "sns.set(font_scale=1.1)\n",
    "\n",
    "axes = plt.gca()\n",
    "axes.xaxis.label.set_size(15)\n",
    "axes.yaxis.label.set_size(15) \n",
    "\n",
    "sns.heatmap(cm, annot=True,cmap=plt.cm.Oranges, alpha=0.5)\n",
    "\n",
    "plt.xlabel('Predicted')\n",
    "plt.ylabel('Truth')"
   ]
  },
  {
   "cell_type": "markdown",
   "metadata": {},
   "source": [
    "##### Precison, Recall, F1, Accuracy"
   ]
  },
  {
   "cell_type": "code",
   "execution_count": 267,
   "metadata": {},
   "outputs": [
    {
     "name": "stdout",
     "output_type": "stream",
     "text": [
      "              precision    recall  f1-score   support\n",
      "\n",
      "           0       1.00      1.00      1.00         1\n",
      "           1       1.00      1.00      1.00         5\n",
      "\n",
      "    accuracy                           1.00         6\n",
      "   macro avg       1.00      1.00      1.00         6\n",
      "weighted avg       1.00      1.00      1.00         6\n",
      "\n"
     ]
    }
   ],
   "source": [
    "# Total report\n",
    "from sklearn import metrics\n",
    "print(metrics.classification_report(y_test,y_test_pred))"
   ]
  },
  {
   "cell_type": "code",
   "execution_count": 268,
   "metadata": {},
   "outputs": [
    {
     "name": "stdout",
     "output_type": "stream",
     "text": [
      "Accuracy score :  100.0 %\n"
     ]
    }
   ],
   "source": [
    "# Accuracy score\n",
    "temp = metrics.accuracy_score(y_test,y_test_pred)\n",
    "Logistic_Test_Accuracy = np.round(temp,2)*100\n",
    "print(\"Accuracy score : \",Logistic_Test_Accuracy,\"%\")"
   ]
  },
  {
   "cell_type": "code",
   "execution_count": 269,
   "metadata": {},
   "outputs": [
    {
     "name": "stdout",
     "output_type": "stream",
     "text": [
      "Precision score :  100.0 %\n"
     ]
    }
   ],
   "source": [
    "# Precision score\n",
    "temp = metrics.precision_score(y_test,y_test_pred)\n",
    "Logistic_Test_Precision = np.round(temp,2)*100\n",
    "print(\"Precision score : \",Logistic_Test_Precision,\"%\")"
   ]
  },
  {
   "cell_type": "code",
   "execution_count": 270,
   "metadata": {},
   "outputs": [
    {
     "name": "stdout",
     "output_type": "stream",
     "text": [
      "Recall score :  100.0 %\n"
     ]
    }
   ],
   "source": [
    "# Recall score\n",
    "temp = metrics.recall_score(y_test,y_test_pred)\n",
    "Logistic_Test_Recall = np.round(temp,2)*100\n",
    "print(\"Recall score : \",Logistic_Test_Recall,\"%\")"
   ]
  },
  {
   "cell_type": "code",
   "execution_count": 271,
   "metadata": {},
   "outputs": [
    {
     "name": "stdout",
     "output_type": "stream",
     "text": [
      "F1 score :  100.0 %\n"
     ]
    }
   ],
   "source": [
    "# F1 score\n",
    "temp = metrics.f1_score(y_test,y_test_pred)\n",
    "Logistic_Test_F1 = np.round(temp,2)*100\n",
    "print(\"F1 score : \",Logistic_Test_F1,\"%\")"
   ]
  },
  {
   "cell_type": "code",
   "execution_count": 272,
   "metadata": {},
   "outputs": [
    {
     "name": "stdout",
     "output_type": "stream",
     "text": [
      "Cohen Kappa score :  100.0 %\n"
     ]
    }
   ],
   "source": [
    "# Cohen Kappa score\n",
    "temp = metrics.cohen_kappa_score(y_test,y_test_pred)\n",
    "Logistic_Test_CK = np.round(temp,2)*100\n",
    "print(\"Cohen Kappa score : \",Logistic_Test_CK,\"%\")"
   ]
  },
  {
   "cell_type": "markdown",
   "metadata": {},
   "source": [
    "##### ROC and AUC"
   ]
  },
  {
   "cell_type": "code",
   "execution_count": 273,
   "metadata": {},
   "outputs": [
    {
     "data": {
      "image/png": "[encoded data removed]",
      "text/plain": [
       "<Figure size 432x288 with 1 Axes>"
      ]
     },
     "metadata": {},
     "output_type": "display_data"
    }
   ],
   "source": [
    "prob = test_predicted_prob[::,1]\n",
    "fpr, tpr, _ = metrics.roc_curve(y_test, prob)\n",
    "Logistic_Test_AUC = np.round(metrics.roc_auc_score(y_test, prob),2)*100\n",
    "plt.plot(fpr,tpr,label=\"ROC, auc=\"+str(Logistic_Test_AUC))\n",
    "plt.xlabel('False Positive Rate')\n",
    "plt.ylabel('True Positive Rate')\n",
    "plt.legend(loc=4)\n",
    "plt.show()"
   ]
  },
  {
   "cell_type": "markdown",
   "metadata": {},
   "source": [
    "### Step 7. Prediction using the model "
   ]
  },
  {
   "cell_type": "code",
   "execution_count": 274,
   "metadata": {},
   "outputs": [
    {
     "data": {
      "text/plain": [
       "array([0], dtype=int64)"
      ]
     },
     "execution_count": 274,
     "metadata": {},
     "output_type": "execute_result"
    }
   ],
   "source": [
    "# Predict whether person with age 25 will buy insurance or not?\n",
    "logistic_model.predict([[25]])"
   ]
  },
  {
   "cell_type": "code",
   "execution_count": 275,
   "metadata": {},
   "outputs": [
    {
     "data": {
      "text/plain": [
       "array([[0.85882961, 0.14117039]])"
      ]
     },
     "execution_count": 275,
     "metadata": {},
     "output_type": "execute_result"
    }
   ],
   "source": [
    "logistic_model.predict_proba([[25]])    # he will not buy 85% of the time"
   ]
  },
  {
   "cell_type": "code",
   "execution_count": 276,
   "metadata": {
    "scrolled": true
   },
   "outputs": [
    {
     "data": {
      "text/plain": [
       "array([1], dtype=int64)"
      ]
     },
     "execution_count": 276,
     "metadata": {},
     "output_type": "execute_result"
    }
   ],
   "source": [
    "# Predict whether person with age 52 will buy insurance or not?\n",
    "logistic_model.predict([[52]])"
   ]
  },
  {
   "cell_type": "code",
   "execution_count": 277,
   "metadata": {},
   "outputs": [
    {
     "data": {
      "text/plain": [
       "array([[0.22745791, 0.77254209]])"
      ]
     },
     "execution_count": 277,
     "metadata": {},
     "output_type": "execute_result"
    }
   ],
   "source": [
    "logistic_model.predict_proba([[52]])  # he will buy 77% of the time"
   ]
  },
  {
   "cell_type": "markdown",
   "metadata": {},
   "source": [
    "### Step 8. Summary"
   ]
  },
  {
   "cell_type": "code",
   "execution_count": 278,
   "metadata": {},
   "outputs": [
    {
     "name": "stdout",
     "output_type": "stream",
     "text": [
      "             Logistic Regression      \n",
      "====================================================\n",
      "\t\tTraining phase       Testing phase \n",
      "====================================================\n",
      "RS\t\t    81.0 %\t\t 100.0 %\n",
      "Accuracy\t    81.0 %\t\t 100.0 %\n",
      "Precision\t    78.0 %\t\t 100.0 %\n",
      "Recall\t\t    78.0 %\t\t 100.0 %\n",
      "F1\t\t    78.0 %\t\t 100.0 %\n",
      "CK\t\t    61.0 %\t\t 100.0 %\n",
      "AUC\t\t    88.0 %\t\t 100.0 %\n",
      "====================================================\n"
     ]
    }
   ],
   "source": [
    "print(\"             Logistic Regression      \")\n",
    "print(\"====================================================\")\n",
    "print(\"\\t\\tTraining phase       Testing phase \")\n",
    "print(\"====================================================\")\n",
    "print(\"RS\\t\\t   \",Logistic_Train_RS,\"%\\t\\t\", Logistic_Test_RS,\"%\") \n",
    "print(\"Accuracy\\t   \",Logistic_Train_Accuracy,\"%\\t\\t\", Logistic_Test_Accuracy,\"%\") \n",
    "print(\"Precision\\t   \",Logistic_Train_Precision,\"%\\t\\t\", Logistic_Test_Precision,\"%\") \n",
    "print(\"Recall\\t\\t   \",Logistic_Train_Recall,\"%\\t\\t\", Logistic_Test_Recall,\"%\") \n",
    "print(\"F1\\t\\t   \",Logistic_Train_F1,\"%\\t\\t\", Logistic_Test_F1,\"%\") \n",
    "print(\"CK\\t\\t   \",Logistic_Train_CK,\"%\\t\\t\", Logistic_Test_CK,\"%\") \n",
    "print(\"AUC\\t\\t   \",Logistic_Train_AUC,\"%\\t\\t\", Logistic_Test_AUC,\"%\") \n",
    "print(\"====================================================\")"
   ]
  },
  {
   "cell_type": "markdown",
   "metadata": {},
   "source": [
    "<h2 style=\"color:purple\">Exercise</h2>\n",
    "\n",
    "Download employee retention dataset from here: https://www.kaggle.com/giripujar/hr-analytics. \n",
    "1. Now do some EDA to figure out which variables have direct and clear impact on employee retention (i.e. whether they leave the company or continue to work)\n",
    "2. Plot bar charts showing impact of employee salaries on retention\n",
    "3. Plot bar charts showing corelation between department and employee retention\n",
    "4. Now build logistic regression model using variables that were narrowed down in step 1\n",
    "5. Measure the accuracy of the model\n",
    "\n",
    "You may consider the following input and output feature, if you did not any idea EDA.  <br>\n",
    "input feature: satisfaction_level, average_montly_hours, promotion_last_5years, salary <br>\n",
    "output feature : left\t"
   ]
  }
 ],
 "metadata": {
  "kernelspec": {
   "display_name": "Python 3",
   "language": "python",
   "name": "python3"
  },
  "language_info": {
   "codemirror_mode": {
    "name": "ipython",
    "version": 3
   },
   "file_extension": ".py",
   "mimetype": "text/x-python",
   "name": "python",
   "nbconvert_exporter": "python",
   "pygments_lexer": "ipython3",
   "version": "3.8.5"
  }
 },
 "nbformat": 4,
 "nbformat_minor": 4
}
