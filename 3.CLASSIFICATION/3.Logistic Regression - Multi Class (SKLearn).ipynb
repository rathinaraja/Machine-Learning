{
 "cells": [
  {
   "cell_type": "markdown",
   "metadata": {},
   "source": [
    "<div align=\"center\">\n",
    "  <b> <font size=\"6\">Multi-Class Classification using Logistic Regression</font> </b>\n",
    "</div>"
   ]
  },
  {
   "cell_type": "markdown",
   "metadata": {},
   "source": [
    "We will predict hand-written digits. The dataset is available here https://scikit-learn.org/stable/auto_examples/datasets/plot_digits_last_image.html"
   ]
  },
  {
   "cell_type": "code",
   "execution_count": 1,
   "metadata": {},
   "outputs": [],
   "source": [
    "# Import necessary package\n",
    "import numpy as np\n",
    "import matplotlib.pyplot as plt\n",
    "%matplotlib inline\n",
    "import seaborn as sns"
   ]
  },
  {
   "cell_type": "markdown",
   "metadata": {},
   "source": [
    "### Step 1: Load the dataset"
   ]
  },
  {
   "cell_type": "code",
   "execution_count": 2,
   "metadata": {},
   "outputs": [],
   "source": [
    "# Load the dataset into pandas dataframe\n",
    "from sklearn.datasets import load_digits\n",
    "digits = load_digits()"
   ]
  },
  {
   "cell_type": "code",
   "execution_count": 3,
   "metadata": {},
   "outputs": [
    {
     "data": {
      "text/plain": [
       "['DESCR', 'data', 'feature_names', 'frame', 'images', 'target', 'target_names']"
      ]
     },
     "execution_count": 3,
     "metadata": {},
     "output_type": "execute_result"
    }
   ],
   "source": [
    "# Dataset folder contains the following folders\n",
    "dir(digits)"
   ]
  },
  {
   "cell_type": "code",
   "execution_count": 4,
   "metadata": {},
   "outputs": [
    {
     "data": {
      "text/plain": [
       "array([ 0.,  0.,  5., 13.,  9.,  1.,  0.,  0.,  0.,  0., 13., 15., 10.,\n",
       "       15.,  5.,  0.,  0.,  3., 15.,  2.,  0., 11.,  8.,  0.,  0.,  4.,\n",
       "       12.,  0.,  0.,  8.,  8.,  0.,  0.,  5.,  8.,  0.,  0.,  9.,  8.,\n",
       "        0.,  0.,  4., 11.,  0.,  1., 12.,  7.,  0.,  0.,  2., 14.,  5.,\n",
       "       10., 12.,  0.,  0.,  0.,  0.,  6., 13., 10.,  0.,  0.,  0.])"
      ]
     },
     "execution_count": 4,
     "metadata": {},
     "output_type": "execute_result"
    }
   ],
   "source": [
    "digits.data[0]\n",
    "# 64 values are used to represent an image (8x8 = 64 values as 1 D array) which is availale in data folder"
   ]
  },
  {
   "cell_type": "code",
   "execution_count": 5,
   "metadata": {},
   "outputs": [
    {
     "data": {
      "text/plain": [
       "<Figure size 432x288 with 0 Axes>"
      ]
     },
     "metadata": {},
     "output_type": "display_data"
    },
    {
     "data": {
      "image/png": "[encoded data removed]",
      "text/plain": [
       "<Figure size 288x288 with 1 Axes>"
      ]
     },
     "metadata": {
      "needs_background": "light"
     },
     "output_type": "display_data"
    }
   ],
   "source": [
    "# Display the image of respective input from images folder\n",
    "plt.gray()  \n",
    "plt.matshow(digits.images[0]) \n",
    "plt.show()"
   ]
  },
  {
   "cell_type": "code",
   "execution_count": 6,
   "metadata": {},
   "outputs": [
    {
     "data": {
      "text/plain": [
       "<Figure size 432x288 with 0 Axes>"
      ]
     },
     "metadata": {},
     "output_type": "display_data"
    },
    {
     "data": {
      "image/png": "[encoded data removed]",
      "text/plain": [
       "<Figure size 288x288 with 1 Axes>"
      ]
     },
     "metadata": {
      "needs_background": "light"
     },
     "output_type": "display_data"
    },
    {
     "data": {
      "image/png": "[encoded data removed]",
      "text/plain": [
       "<Figure size 288x288 with 1 Axes>"
      ]
     },
     "metadata": {
      "needs_background": "light"
     },
     "output_type": "display_data"
    },
    {
     "data": {
      "image/png": "[encoded data removed]",
      "text/plain": [
       "<Figure size 288x288 with 1 Axes>"
      ]
     },
     "metadata": {
      "needs_background": "light"
     },
     "output_type": "display_data"
    },
    {
     "data": {
      "image/png": "[encoded data removed]",
      "text/plain": [
       "<Figure size 288x288 with 1 Axes>"
      ]
     },
     "metadata": {
      "needs_background": "light"
     },
     "output_type": "display_data"
    },
    {
     "data": {
      "image/png": "[encoded data removed]",
      "text/plain": [
       "<Figure size 288x288 with 1 Axes>"
      ]
     },
     "metadata": {
      "needs_background": "light"
     },
     "output_type": "display_data"
    }
   ],
   "source": [
    "# Let us display 5 images\n",
    "plt.gray() \n",
    "for i in range(5):\n",
    "    plt.matshow(digits.images[i]) \n",
    "    plt.show()"
   ]
  },
  {
   "cell_type": "code",
   "execution_count": 7,
   "metadata": {},
   "outputs": [
    {
     "data": {
      "text/plain": [
       "array([0, 1, 2, 3, 4, 5, 6, 7, 8, 9])"
      ]
     },
     "execution_count": 7,
     "metadata": {},
     "output_type": "execute_result"
    }
   ],
   "source": [
    "# Target label for each image\n",
    "digits.target_names"
   ]
  },
  {
   "cell_type": "markdown",
   "metadata": {},
   "source": [
    "### Step 2: Apply EDA"
   ]
  },
  {
   "cell_type": "markdown",
   "metadata": {},
   "source": [
    "Any EDA techniques"
   ]
  },
  {
   "cell_type": "markdown",
   "metadata": {},
   "source": [
    "### Step 3. Pre-process and extract the features"
   ]
  },
  {
   "cell_type": "markdown",
   "metadata": {},
   "source": [
    "It is already well loaded"
   ]
  },
  {
   "cell_type": "markdown",
   "metadata": {},
   "source": [
    "### Step 4. Split the data for training and testing"
   ]
  },
  {
   "cell_type": "code",
   "execution_count": 8,
   "metadata": {},
   "outputs": [],
   "source": [
    "# Splitting dataset into training and testing set\n",
    "from sklearn.model_selection import train_test_split\n",
    "x_train, x_test, y_train, y_test = train_test_split(digits.data, digits.target, test_size = 0.2) "
   ]
  },
  {
   "cell_type": "markdown",
   "metadata": {},
   "source": [
    "### Step 5. Training the model"
   ]
  },
  {
   "cell_type": "markdown",
   "metadata": {},
   "source": [
    "##### Fitting the model"
   ]
  },
  {
   "cell_type": "code",
   "execution_count": 9,
   "metadata": {},
   "outputs": [
    {
     "name": "stderr",
     "output_type": "stream",
     "text": [
      "C:\\Users\\Rathinaraja Jeyaraj\\anaconda3\\lib\\site-packages\\sklearn\\linear_model\\_logistic.py:762: ConvergenceWarning: lbfgs failed to converge (status=1):\n",
      "STOP: TOTAL NO. of ITERATIONS REACHED LIMIT.\n",
      "\n",
      "Increase the number of iterations (max_iter) or scale the data as shown in:\n",
      "    https://scikit-learn.org/stable/modules/preprocessing.html\n",
      "Please also refer to the documentation for alternative solver options:\n",
      "    https://scikit-learn.org/stable/modules/linear_model.html#logistic-regression\n",
      "  n_iter_i = _check_optimize_result(\n"
     ]
    },
    {
     "data": {
      "text/plain": [
       "LogisticRegression()"
      ]
     },
     "execution_count": 9,
     "metadata": {},
     "output_type": "execute_result"
    }
   ],
   "source": [
    "from sklearn.linear_model import LogisticRegression\n",
    "logistic_model = LogisticRegression()\n",
    "logistic_model.fit(x_train, y_train)"
   ]
  },
  {
   "cell_type": "code",
   "execution_count": 10,
   "metadata": {},
   "outputs": [
    {
     "data": {
      "text/plain": [
       "array([5, 3, 3, ..., 9, 4, 8])"
      ]
     },
     "execution_count": 10,
     "metadata": {},
     "output_type": "execute_result"
    }
   ],
   "source": [
    "y_train_pred = logistic_model.predict(x_train) \n",
    "y_train_pred"
   ]
  },
  {
   "cell_type": "code",
   "execution_count": 11,
   "metadata": {},
   "outputs": [
    {
     "data": {
      "text/plain": [
       "array([[1.65343039e-06, 1.88862528e-13, 9.47297093e-10, ...,\n",
       "        4.21817324e-12, 1.78846051e-06, 6.06485540e-10],\n",
       "       [8.65279130e-22, 2.78292795e-22, 1.56931565e-15, ...,\n",
       "        4.49431750e-19, 2.03211969e-12, 7.58522283e-11],\n",
       "       [3.02423565e-13, 9.05636296e-14, 7.17503083e-07, ...,\n",
       "        1.43685765e-11, 3.02520639e-10, 8.97661248e-08],\n",
       "       ...,\n",
       "       [3.30098358e-06, 4.36389257e-13, 2.40686173e-10, ...,\n",
       "        3.88021625e-08, 6.15172902e-08, 9.98643455e-01],\n",
       "       [3.30213100e-12, 1.92304116e-11, 1.00558877e-20, ...,\n",
       "        3.10864231e-11, 1.50858926e-14, 1.23415495e-26],\n",
       "       [8.98580572e-04, 4.23912326e-03, 2.21387617e-02, ...,\n",
       "        3.55708497e-05, 9.72201161e-01, 3.07963485e-06]])"
      ]
     },
     "execution_count": 11,
     "metadata": {},
     "output_type": "execute_result"
    }
   ],
   "source": [
    "train_predicted_prob = logistic_model.predict_proba(x_train)\n",
    "train_predicted_prob\n",
    "# each row contains probability for each digit"
   ]
  },
  {
   "cell_type": "markdown",
   "metadata": {},
   "source": [
    "##### Performance score for logistic regression"
   ]
  },
  {
   "cell_type": "code",
   "execution_count": 12,
   "metadata": {},
   "outputs": [
    {
     "name": "stdout",
     "output_type": "stream",
     "text": [
      "Performance score for training set : 100.0 %\n"
     ]
    }
   ],
   "source": [
    "out = logistic_model.score(x_train,y_train)\n",
    "Logistic_Train_RS = np.round(out,2)*100\n",
    "print(\"Performance score for training set :\",Logistic_Train_RS,\"%\") "
   ]
  },
  {
   "cell_type": "markdown",
   "metadata": {},
   "source": [
    "##### Confusion matrix"
   ]
  },
  {
   "cell_type": "markdown",
   "metadata": {},
   "source": [
    "R2 score says the performance of logistic regression over simple probability that does not feature Age. <br>\n",
    "We are interested to know how many has been correctly and wrongly classified."
   ]
  },
  {
   "cell_type": "code",
   "execution_count": 13,
   "metadata": {},
   "outputs": [
    {
     "data": {
      "text/plain": [
       "Text(64.5, 0.5, 'Truth')"
      ]
     },
     "execution_count": 13,
     "metadata": {},
     "output_type": "execute_result"
    },
    {
     "data": {
      "image/png": "[encoded data removed]",
      "text/plain": [
       "<Figure size 720x576 with 2 Axes>"
      ]
     },
     "metadata": {
      "needs_background": "light"
     },
     "output_type": "display_data"
    }
   ],
   "source": [
    "from sklearn.metrics import confusion_matrix\n",
    "cm = confusion_matrix(y_train,y_train_pred)\n",
    "\n",
    "plt.figure(figsize = (10,8))\n",
    "sns.set(font_scale=1.1)\n",
    "\n",
    "axes = plt.gca()\n",
    "axes.xaxis.label.set_size(15)\n",
    "axes.yaxis.label.set_size(15) \n",
    "\n",
    "sns.heatmap(cm, annot=True,cmap=plt.cm.Oranges, alpha=0.5)\n",
    "\n",
    "plt.xlabel('Predicted')\n",
    "plt.ylabel('Truth')"
   ]
  },
  {
   "cell_type": "markdown",
   "metadata": {},
   "source": [
    "##### Precison, Recall, F1, Accuracy"
   ]
  },
  {
   "cell_type": "code",
   "execution_count": 14,
   "metadata": {},
   "outputs": [
    {
     "name": "stdout",
     "output_type": "stream",
     "text": [
      "              precision    recall  f1-score   support\n",
      "\n",
      "           0       1.00      1.00      1.00       144\n",
      "           1       1.00      1.00      1.00       148\n",
      "           2       1.00      1.00      1.00       139\n",
      "           3       1.00      1.00      1.00       143\n",
      "           4       1.00      1.00      1.00       145\n",
      "           5       1.00      1.00      1.00       141\n",
      "           6       1.00      1.00      1.00       147\n",
      "           7       1.00      1.00      1.00       146\n",
      "           8       1.00      1.00      1.00       137\n",
      "           9       1.00      1.00      1.00       147\n",
      "\n",
      "    accuracy                           1.00      1437\n",
      "   macro avg       1.00      1.00      1.00      1437\n",
      "weighted avg       1.00      1.00      1.00      1437\n",
      "\n"
     ]
    }
   ],
   "source": [
    "# Total report\n",
    "from sklearn import metrics\n",
    "print(metrics.classification_report(y_train,y_train_pred))"
   ]
  },
  {
   "cell_type": "code",
   "execution_count": 15,
   "metadata": {},
   "outputs": [
    {
     "name": "stdout",
     "output_type": "stream",
     "text": [
      "Accuracy score :  100.0 %\n"
     ]
    }
   ],
   "source": [
    "# Accuracy score\n",
    "temp = metrics.accuracy_score(y_train,y_train_pred)\n",
    "Logistic_Train_Accuracy = np.round(temp,2)*100\n",
    "print(\"Accuracy score : \",Logistic_Train_Accuracy,\"%\")"
   ]
  },
  {
   "cell_type": "code",
   "execution_count": 16,
   "metadata": {},
   "outputs": [
    {
     "name": "stdout",
     "output_type": "stream",
     "text": [
      "Precision score :  100.0 %\n"
     ]
    }
   ],
   "source": [
    "# Precision score\n",
    "temp = metrics.precision_score(y_train,y_train_pred,average=\"macro\")\n",
    "Logistic_Train_Precision = np.round(temp,2)*100\n",
    "print(\"Precision score : \",Logistic_Train_Precision,\"%\")"
   ]
  },
  {
   "cell_type": "code",
   "execution_count": 17,
   "metadata": {},
   "outputs": [
    {
     "name": "stdout",
     "output_type": "stream",
     "text": [
      "Recall score :  100.0 %\n"
     ]
    }
   ],
   "source": [
    "# Recall score\n",
    "temp = metrics.recall_score(y_train,y_train_pred,average=\"macro\")\n",
    "Logistic_Train_Recall = np.round(temp,2)*100\n",
    "print(\"Recall score : \",Logistic_Train_Recall,\"%\")"
   ]
  },
  {
   "cell_type": "code",
   "execution_count": 18,
   "metadata": {},
   "outputs": [
    {
     "name": "stdout",
     "output_type": "stream",
     "text": [
      "F1 score :  100.0 %\n"
     ]
    }
   ],
   "source": [
    "# F1 score\n",
    "temp = metrics.f1_score(y_train,y_train_pred,average=\"macro\")\n",
    "Logistic_Train_F1 = np.round(temp,2)*100\n",
    "print(\"F1 score : \",Logistic_Train_F1,\"%\")"
   ]
  },
  {
   "cell_type": "code",
   "execution_count": 19,
   "metadata": {},
   "outputs": [
    {
     "name": "stdout",
     "output_type": "stream",
     "text": [
      "Cohen Kappa score :  100.0 %\n"
     ]
    }
   ],
   "source": [
    "# Cohen Kappa score\n",
    "temp = metrics.cohen_kappa_score(y_train,y_train_pred)\n",
    "Logistic_Train_CK = np.round(temp,2)*100\n",
    "print(\"Cohen Kappa score : \",Logistic_Train_CK,\"%\")"
   ]
  },
  {
   "cell_type": "markdown",
   "metadata": {},
   "source": [
    "##### ROC "
   ]
  },
  {
   "cell_type": "markdown",
   "metadata": {},
   "source": [
    "It should be plotted"
   ]
  },
  {
   "cell_type": "markdown",
   "metadata": {},
   "source": [
    "### Step 6. Testing the model"
   ]
  },
  {
   "cell_type": "code",
   "execution_count": 20,
   "metadata": {},
   "outputs": [
    {
     "data": {
      "text/plain": [
       "array([2, 7, 4, 7, 1, 9, 5, 1, 6, 4, 4, 0, 5, 4, 3, 4, 4, 6, 1, 4, 6, 2,\n",
       "       3, 4, 9, 2, 3, 0, 5, 6, 2, 8, 7, 4, 2, 3, 2, 4, 0, 5, 9, 9, 7, 1,\n",
       "       4, 1, 7, 0, 3, 5, 6, 3, 6, 1, 9, 7, 7, 7, 0, 2, 2, 4, 6, 3, 3, 3,\n",
       "       7, 7, 3, 3, 9, 9, 1, 0, 8, 0, 3, 6, 8, 3, 9, 6, 0, 4, 8, 9, 5, 7,\n",
       "       3, 7, 1, 8, 3, 3, 6, 6, 8, 2, 6, 6, 9, 6, 4, 9, 5, 8, 3, 8, 4, 5,\n",
       "       1, 7, 5, 6, 0, 8, 8, 7, 2, 0, 2, 5, 2, 3, 5, 6, 6, 7, 0, 2, 8, 9,\n",
       "       9, 2, 6, 9, 3, 2, 9, 0, 9, 4, 6, 8, 2, 3, 9, 4, 4, 0, 1, 5, 1, 0,\n",
       "       7, 2, 7, 2, 8, 2, 9, 8, 9, 0, 8, 9, 1, 9, 9, 0, 6, 6, 3, 2, 8, 1,\n",
       "       7, 2, 4, 9, 4, 9, 0, 3, 0, 1, 4, 4, 6, 5, 2, 3, 5, 3, 6, 0, 8, 2,\n",
       "       5, 0, 3, 5, 5, 3, 1, 9, 4, 1, 1, 1, 8, 3, 5, 1, 9, 1, 2, 0, 2, 2,\n",
       "       4, 9, 6, 8, 8, 5, 8, 1, 9, 8, 8, 8, 5, 8, 5, 8, 6, 6, 2, 1, 7, 8,\n",
       "       4, 1, 3, 1, 3, 3, 5, 2, 4, 9, 8, 8, 4, 6, 6, 7, 8, 7, 7, 7, 1, 1,\n",
       "       3, 5, 0, 0, 9, 7, 1, 0, 8, 4, 7, 8, 2, 2, 7, 1, 6, 7, 8, 9, 6, 3,\n",
       "       3, 9, 0, 9, 5, 3, 8, 2, 0, 6, 2, 6, 1, 9, 0, 4, 8, 1, 7, 0, 8, 3,\n",
       "       1, 0, 5, 7, 2, 2, 1, 5, 2, 0, 5, 9, 5, 1, 4, 4, 3, 7, 5, 4, 5, 8,\n",
       "       9, 0, 3, 6, 7, 5, 6, 0, 7, 1, 5, 4, 8, 5, 6, 3, 2, 0, 1, 4, 5, 0,\n",
       "       9, 5, 4, 2, 3, 1, 0, 5])"
      ]
     },
     "execution_count": 20,
     "metadata": {},
     "output_type": "execute_result"
    }
   ],
   "source": [
    "# Predicting values for test input set\n",
    "y_test_pred = logistic_model.predict(x_test)\n",
    "y_test_pred"
   ]
  },
  {
   "cell_type": "code",
   "execution_count": 21,
   "metadata": {},
   "outputs": [
    {
     "data": {
      "text/plain": [
       "array([[2.61582464e-17, 6.36102953e-14, 9.99981368e-01, ...,\n",
       "        6.32816723e-15, 8.43415735e-08, 2.54647447e-12],\n",
       "       [1.12195460e-12, 3.38597251e-09, 1.84528603e-11, ...,\n",
       "        9.99999974e-01, 8.18932749e-11, 5.37784237e-13],\n",
       "       [4.70747557e-09, 1.17521732e-02, 3.25445044e-15, ...,\n",
       "        2.42344059e-07, 2.83830434e-05, 9.41348585e-14],\n",
       "       ...,\n",
       "       [2.41062240e-10, 9.99968965e-01, 4.12617874e-08, ...,\n",
       "        1.63297882e-09, 2.99847610e-06, 2.69792678e-06],\n",
       "       [9.99917021e-01, 3.42658903e-17, 9.61063241e-09, ...,\n",
       "        3.61169708e-12, 8.27709068e-05, 9.43399890e-08],\n",
       "       [1.50594596e-11, 6.48978633e-10, 1.04976291e-07, ...,\n",
       "        3.57640245e-10, 1.07855157e-07, 1.05188150e-08]])"
      ]
     },
     "execution_count": 21,
     "metadata": {},
     "output_type": "execute_result"
    }
   ],
   "source": [
    "test_predicted_prob = logistic_model.predict_proba(x_test)\n",
    "test_predicted_prob"
   ]
  },
  {
   "cell_type": "markdown",
   "metadata": {},
   "source": [
    "##### Performance score for logistic regression"
   ]
  },
  {
   "cell_type": "code",
   "execution_count": 22,
   "metadata": {},
   "outputs": [
    {
     "name": "stdout",
     "output_type": "stream",
     "text": [
      "Performance score for training set : 96.0 %\n"
     ]
    }
   ],
   "source": [
    "out = logistic_model.score(x_test,y_test)\n",
    "Logistic_Test_RS = np.round(out,2)*100\n",
    "print(\"Performance score for training set :\",Logistic_Test_RS,\"%\") "
   ]
  },
  {
   "cell_type": "markdown",
   "metadata": {},
   "source": [
    "##### Confusion matrix"
   ]
  },
  {
   "cell_type": "markdown",
   "metadata": {},
   "source": [
    "R2 score says the performance of logistic regression over simple probability that does not feature Age. <br>\n",
    "We are interested to know how many has been correctly and wrongly classified."
   ]
  },
  {
   "cell_type": "code",
   "execution_count": 23,
   "metadata": {},
   "outputs": [
    {
     "data": {
      "text/plain": [
       "Text(19.5, 0.5, 'Truth')"
      ]
     },
     "execution_count": 23,
     "metadata": {},
     "output_type": "execute_result"
    },
    {
     "data": {
      "image/png": "[encoded data removed]",
      "text/plain": [
       "<Figure size 360x216 with 2 Axes>"
      ]
     },
     "metadata": {},
     "output_type": "display_data"
    }
   ],
   "source": [
    "from sklearn.metrics import confusion_matrix\n",
    "cm = confusion_matrix(y_test,y_test_pred)\n",
    "\n",
    "plt.figure(figsize = (5,3))\n",
    "sns.set(font_scale=1.1)\n",
    "\n",
    "axes = plt.gca()\n",
    "axes.xaxis.label.set_size(15)\n",
    "axes.yaxis.label.set_size(15) \n",
    "\n",
    "sns.heatmap(cm, annot=True,cmap=plt.cm.Oranges, alpha=0.5)\n",
    "\n",
    "plt.xlabel('Predicted')\n",
    "plt.ylabel('Truth')"
   ]
  },
  {
   "cell_type": "markdown",
   "metadata": {},
   "source": [
    "##### Precison, Recall, F1, Accuracy"
   ]
  },
  {
   "cell_type": "code",
   "execution_count": 24,
   "metadata": {},
   "outputs": [
    {
     "name": "stdout",
     "output_type": "stream",
     "text": [
      "              precision    recall  f1-score   support\n",
      "\n",
      "           0       0.97      1.00      0.99        34\n",
      "           1       0.94      1.00      0.97        34\n",
      "           2       0.97      0.95      0.96        38\n",
      "           3       0.95      0.93      0.94        40\n",
      "           4       1.00      0.97      0.99        36\n",
      "           5       1.00      0.88      0.94        41\n",
      "           6       0.97      1.00      0.99        34\n",
      "           7       1.00      0.97      0.98        33\n",
      "           8       0.97      1.00      0.99        37\n",
      "           9       0.86      0.97      0.91        33\n",
      "\n",
      "    accuracy                           0.96       360\n",
      "   macro avg       0.96      0.97      0.96       360\n",
      "weighted avg       0.97      0.96      0.96       360\n",
      "\n"
     ]
    }
   ],
   "source": [
    "# Total report\n",
    "from sklearn import metrics\n",
    "print(metrics.classification_report(y_test,y_test_pred))"
   ]
  },
  {
   "cell_type": "code",
   "execution_count": 25,
   "metadata": {},
   "outputs": [
    {
     "name": "stdout",
     "output_type": "stream",
     "text": [
      "Accuracy score :  96.0 %\n"
     ]
    }
   ],
   "source": [
    "# Accuracy score\n",
    "temp = metrics.accuracy_score(y_test,y_test_pred)\n",
    "Logistic_Test_Accuracy = np.round(temp,2)*100\n",
    "print(\"Accuracy score : \",Logistic_Test_Accuracy,\"%\")"
   ]
  },
  {
   "cell_type": "code",
   "execution_count": 26,
   "metadata": {},
   "outputs": [
    {
     "name": "stdout",
     "output_type": "stream",
     "text": [
      "Precision score :  96.0 %\n"
     ]
    }
   ],
   "source": [
    "# Precision score\n",
    "temp = metrics.precision_score(y_test,y_test_pred,average=\"macro\")\n",
    "Logistic_Test_Precision = np.round(temp,2)*100\n",
    "print(\"Precision score : \",Logistic_Test_Precision,\"%\")"
   ]
  },
  {
   "cell_type": "code",
   "execution_count": 27,
   "metadata": {},
   "outputs": [
    {
     "name": "stdout",
     "output_type": "stream",
     "text": [
      "Recall score :  97.0 %\n"
     ]
    }
   ],
   "source": [
    "# Recall score\n",
    "temp = metrics.recall_score(y_test,y_test_pred,average=\"macro\")\n",
    "Logistic_Test_Recall = np.round(temp,2)*100\n",
    "print(\"Recall score : \",Logistic_Test_Recall,\"%\")"
   ]
  },
  {
   "cell_type": "code",
   "execution_count": 28,
   "metadata": {},
   "outputs": [
    {
     "name": "stdout",
     "output_type": "stream",
     "text": [
      "F1 score :  96.0 %\n"
     ]
    }
   ],
   "source": [
    "# F1 score\n",
    "temp = metrics.f1_score(y_test,y_test_pred,average=\"macro\")\n",
    "Logistic_Test_F1 = np.round(temp,2)*100\n",
    "print(\"F1 score : \",Logistic_Test_F1,\"%\")"
   ]
  },
  {
   "cell_type": "code",
   "execution_count": 29,
   "metadata": {},
   "outputs": [
    {
     "name": "stdout",
     "output_type": "stream",
     "text": [
      "Cohen Kappa score :  96.0 %\n"
     ]
    }
   ],
   "source": [
    "# Cohen Kappa score\n",
    "temp = metrics.cohen_kappa_score(y_test,y_test_pred)\n",
    "Logistic_Test_CK = np.round(temp,2)*100\n",
    "print(\"Cohen Kappa score : \",Logistic_Test_CK,\"%\")"
   ]
  },
  {
   "cell_type": "markdown",
   "metadata": {},
   "source": [
    "##### ROC "
   ]
  },
  {
   "cell_type": "markdown",
   "metadata": {},
   "source": [
    "It should be plotted"
   ]
  },
  {
   "cell_type": "markdown",
   "metadata": {},
   "source": [
    "### Step 7. Deploying model for prediction"
   ]
  },
  {
   "cell_type": "markdown",
   "metadata": {},
   "source": [
    "##### Prediction by passing individual input"
   ]
  },
  {
   "cell_type": "code",
   "execution_count": 30,
   "metadata": {},
   "outputs": [
    {
     "data": {
      "text/plain": [
       "<matplotlib.image.AxesImage at 0x1f639ab8970>"
      ]
     },
     "execution_count": 30,
     "metadata": {},
     "output_type": "execute_result"
    },
    {
     "data": {
      "image/png": "[encoded data removed]",
      "text/plain": [
       "<Figure size 288x288 with 1 Axes>"
      ]
     },
     "metadata": {},
     "output_type": "display_data"
    }
   ],
   "source": [
    "plt.matshow(digits.images[67])"
   ]
  },
  {
   "cell_type": "code",
   "execution_count": 31,
   "metadata": {},
   "outputs": [
    {
     "data": {
      "text/plain": [
       "6"
      ]
     },
     "execution_count": 31,
     "metadata": {},
     "output_type": "execute_result"
    }
   ],
   "source": [
    "digits.target[67]"
   ]
  },
  {
   "cell_type": "code",
   "execution_count": 32,
   "metadata": {},
   "outputs": [
    {
     "data": {
      "text/plain": [
       "array([6])"
      ]
     },
     "execution_count": 32,
     "metadata": {},
     "output_type": "execute_result"
    }
   ],
   "source": [
    "logistic_model.predict([digits.data[67]])\n",
    "# giving the image index to the model, which will take the image as necessary input"
   ]
  },
  {
   "cell_type": "code",
   "execution_count": 33,
   "metadata": {},
   "outputs": [
    {
     "data": {
      "text/plain": [
       "array([0, 1, 2, 3, 4])"
      ]
     },
     "execution_count": 33,
     "metadata": {},
     "output_type": "execute_result"
    }
   ],
   "source": [
    "logistic_model.predict(digits.data[0:5])"
   ]
  },
  {
   "cell_type": "markdown",
   "metadata": {},
   "source": [
    "### Step 8. Summary"
   ]
  },
  {
   "cell_type": "code",
   "execution_count": 34,
   "metadata": {},
   "outputs": [
    {
     "name": "stdout",
     "output_type": "stream",
     "text": [
      "             Logistic Regression      \n",
      "====================================================\n",
      "\t\tTraining phase       Testing phase \n",
      "====================================================\n",
      "RS\t\t    100.0 %\t\t 96.0 %\n",
      "Accuracy\t    100.0 %\t\t 96.0 %\n",
      "Precision\t    100.0 %\t\t 96.0 %\n",
      "Recall\t\t    100.0 %\t\t 97.0 %\n",
      "F1\t\t    100.0 %\t\t 96.0 %\n",
      "CK\t\t    100.0 %\t\t 96.0 %\n",
      "====================================================\n"
     ]
    }
   ],
   "source": [
    "print(\"             Logistic Regression      \")\n",
    "print(\"====================================================\")\n",
    "print(\"\\t\\tTraining phase       Testing phase \")\n",
    "print(\"====================================================\")\n",
    "print(\"RS\\t\\t   \",Logistic_Train_RS,\"%\\t\\t\", Logistic_Test_RS,\"%\") \n",
    "print(\"Accuracy\\t   \",Logistic_Train_Accuracy,\"%\\t\\t\", Logistic_Test_Accuracy,\"%\") \n",
    "print(\"Precision\\t   \",Logistic_Train_Precision,\"%\\t\\t\", Logistic_Test_Precision,\"%\") \n",
    "print(\"Recall\\t\\t   \",Logistic_Train_Recall,\"%\\t\\t\", Logistic_Test_Recall,\"%\") \n",
    "print(\"F1\\t\\t   \",Logistic_Train_F1,\"%\\t\\t\", Logistic_Test_F1,\"%\") \n",
    "print(\"CK\\t\\t   \",Logistic_Train_CK,\"%\\t\\t\", Logistic_Test_CK,\"%\") \n",
    "#print(\"AUC\\t\\t   \",Logistic_Train_AUC,\"%\\t\\t\", Logistic_Test_AUC,\"%\") \n",
    "print(\"====================================================\")"
   ]
  }
 ],
 "metadata": {
  "kernelspec": {
   "display_name": "Python 3",
   "language": "python",
   "name": "python3"
  },
  "language_info": {
   "codemirror_mode": {
    "name": "ipython",
    "version": 3
   },
   "file_extension": ".py",
   "mimetype": "text/x-python",
   "name": "python",
   "nbconvert_exporter": "python",
   "pygments_lexer": "ipython3",
   "version": "3.8.5"
  }
 },
 "nbformat": 4,
 "nbformat_minor": 4
}
