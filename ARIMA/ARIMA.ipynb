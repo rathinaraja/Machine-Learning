{
 "cells": [
  {
   "cell_type": "code",
   "execution_count": 1,
   "metadata": {},
   "outputs": [
    {
     "name": "stderr",
     "output_type": "stream",
     "text": [
      "<ipython-input-1-9a991ae046d0>:1: FutureWarning: The pandas.datetime class is deprecated and will be removed from pandas in a future version. Import from datetime module instead.\n",
      "  from pandas import datetime\n"
     ]
    }
   ],
   "source": [
    "from pandas import datetime\n",
    "from pandas import read_csv\n",
    "from pandas import DataFrame\n",
    "from statsmodels.tsa.arima.model import ARIMA\n",
    "from matplotlib import pyplot"
   ]
  },
  {
   "cell_type": "code",
   "execution_count": 2,
   "metadata": {},
   "outputs": [],
   "source": [
    "series = read_csv('New Dataset.csv', header=0, index_col=0, parse_dates=True, squeeze=True)\n",
    "series.index = series.index.to_period('Y')"
   ]
  },
  {
   "cell_type": "code",
   "execution_count": 3,
   "metadata": {},
   "outputs": [
    {
     "name": "stderr",
     "output_type": "stream",
     "text": [
      "C:\\Users\\Rathinaraja Jeyaraj\\anaconda3\\lib\\site-packages\\statsmodels\\tsa\\statespace\\sarimax.py:865: UserWarning: Too few observations to estimate starting parameters for ARMA and trend. All parameters except for variances will be set to zeros.\n",
      "  warn('Too few observations to estimate starting parameters%s.'\n",
      "C:\\Users\\Rathinaraja Jeyaraj\\anaconda3\\lib\\site-packages\\statsmodels\\base\\model.py:566: ConvergenceWarning: Maximum Likelihood optimization failed to converge. Check mle_retvals\n",
      "  warnings.warn(\"Maximum Likelihood optimization failed to \"\n"
     ]
    }
   ],
   "source": [
    "model = ARIMA(series, order=(5,1,0))\n",
    "model_fit = model.fit()"
   ]
  },
  {
   "cell_type": "code",
   "execution_count": 4,
   "metadata": {},
   "outputs": [
    {
     "name": "stdout",
     "output_type": "stream",
     "text": [
      "                               SARIMAX Results                                \n",
      "==============================================================================\n",
      "Dep. Variable:          AS Neighbours   No. Observations:                    3\n",
      "Model:                 ARIMA(5, 1, 0)   Log Likelihood                 -10.661\n",
      "Date:                Thu, 04 Nov 2021   AIC                             33.321\n",
      "Time:                        22:47:31   BIC                             25.480\n",
      "Sample:                    12-31-2019   HQIC                            16.923\n",
      "                         - 12-31-2021                                         \n",
      "Covariance Type:                  opg                                         \n",
      "==============================================================================\n",
      "                 coef    std err          z      P>|z|      [0.025      0.975]\n",
      "------------------------------------------------------------------------------\n",
      "ar.L1          1.9378     33.144      0.058      0.953     -63.023      66.898\n",
      "ar.L2         -0.9971     19.017     -0.052      0.958     -38.269      36.275\n",
      "ar.L3         -0.0024      1.919     -0.001      0.999      -3.764       3.759\n",
      "ar.L4         -0.2768     15.213     -0.018      0.985     -30.094      29.540\n",
      "ar.L5          0.2733     29.468      0.009      0.993     -57.484      58.030\n",
      "sigma2        20.3918      0.016   1294.619      0.000      20.361      20.423\n",
      "===================================================================================\n",
      "Ljung-Box (L1) (Q):                   2.00   Jarque-Bera (JB):                 0.33\n",
      "Prob(Q):                              0.16   Prob(JB):                         0.85\n",
      "Heteroskedasticity (H):                nan   Skew:                             0.00\n",
      "Prob(H) (two-sided):                   nan   Kurtosis:                         1.00\n",
      "===================================================================================\n",
      "\n",
      "Warnings:\n",
      "[1] Covariance matrix calculated using the outer product of gradients (complex-step).\n",
      "[2] Covariance matrix is singular or near-singular, with condition number  6e+22. Standard errors may be unstable.\n"
     ]
    },
    {
     "name": "stderr",
     "output_type": "stream",
     "text": [
      "C:\\Users\\Rathinaraja Jeyaraj\\anaconda3\\lib\\site-packages\\statsmodels\\tsa\\statespace\\mlemodel.py:3098: UserWarning: Early subset of data for variable 0  has too few non-missing observations to calculate test statistic.\n",
      "  warnings.warn('Early subset of data for variable %d'\n",
      "C:\\Users\\Rathinaraja Jeyaraj\\anaconda3\\lib\\site-packages\\statsmodels\\tsa\\statespace\\mlemodel.py:3103: UserWarning: Later subset of data for variable 0  has too few non-missing observations to calculate test statistic.\n",
      "  warnings.warn('Later subset of data for variable %d'\n"
     ]
    }
   ],
   "source": [
    "print(model_fit.summary())"
   ]
  },
  {
   "cell_type": "code",
   "execution_count": 5,
   "metadata": {},
   "outputs": [
    {
     "data": {
      "image/png": "[encoded data removed]",
      "text/plain": [
       "<Figure size 432x288 with 1 Axes>"
      ]
     },
     "metadata": {
      "needs_background": "light"
     },
     "output_type": "display_data"
    }
   ],
   "source": [
    "residuals = DataFrame(model_fit.resid)\n",
    "residuals.plot()\n",
    "pyplot.show()"
   ]
  },
  {
   "cell_type": "code",
   "execution_count": 6,
   "metadata": {},
   "outputs": [
    {
     "data": {
      "image/png": "[encoded data removed]",
      "text/plain": [
       "<Figure size 432x288 with 1 Axes>"
      ]
     },
     "metadata": {
      "needs_background": "light"
     },
     "output_type": "display_data"
    }
   ],
   "source": [
    "residuals.plot(kind='kde')\n",
    "pyplot.show()"
   ]
  },
  {
   "cell_type": "code",
   "execution_count": 7,
   "metadata": {},
   "outputs": [
    {
     "name": "stdout",
     "output_type": "stream",
     "text": [
      "                0\n",
      "count    3.000000\n",
      "mean   216.467724\n",
      "std    463.142065\n",
      "min    -65.186133\n",
      "25%    -50.798414\n",
      "50%    -36.410695\n",
      "75%    357.294652\n",
      "max    751.000000\n"
     ]
    }
   ],
   "source": [
    "print(residuals.describe())"
   ]
  },
  {
   "cell_type": "code",
   "execution_count": 13,
   "metadata": {},
   "outputs": [
    {
     "data": {
      "text/plain": [
       "4043    471.303901\n",
       "Freq: A-DEC, dtype: float64"
      ]
     },
     "execution_count": 13,
     "metadata": {},
     "output_type": "execute_result"
    }
   ],
   "source": [
    "model_fit.predict(2024)"
   ]
  }
 ],
 "metadata": {
  "kernelspec": {
   "display_name": "Python 3",
   "language": "python",
   "name": "python3"
  },
  "language_info": {
   "codemirror_mode": {
    "name": "ipython",
    "version": 3
   },
   "file_extension": ".py",
   "mimetype": "text/x-python",
   "name": "python",
   "nbconvert_exporter": "python",
   "pygments_lexer": "ipython3",
   "version": "3.8.5"
  }
 },
 "nbformat": 4,
 "nbformat_minor": 4
}
